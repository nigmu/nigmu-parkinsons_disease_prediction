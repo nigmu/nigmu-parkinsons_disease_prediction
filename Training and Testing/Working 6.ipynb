{
 "cells": [
  {
   "cell_type": "code",
   "execution_count": 20,
   "id": "870d7342-26d3-41ef-a1ed-c30f0123372e",
   "metadata": {},
   "outputs": [
    {
     "name": "stdout",
     "output_type": "stream",
     "text": [
      "✅ Loaded 12114 samples from ['/home/nigmu/NPersonal/Projects/SDP/nigmu-parkinsons_disease_prediction/Dataset/Italian RGB 2/train']\n",
      "✅ Loaded 2364 samples from ['/home/nigmu/NPersonal/Projects/SDP/nigmu-parkinsons_disease_prediction/Dataset/Italian RGB 2/val']\n",
      "✅ Loaded 4291 samples from ['/home/nigmu/NPersonal/Projects/SDP/nigmu-parkinsons_disease_prediction/Dataset/Italian RGB 2/test']\n",
      "✅ DataLoaders ready! Using device: cuda\n"
     ]
    }
   ],
   "source": [
    "import os\n",
    "import torch\n",
    "from torch.utils.data import Dataset, DataLoader\n",
    "from torchvision import transforms\n",
    "from PIL import Image\n",
    "\n",
    "# Configuration\n",
    "DATA_ROOTS = [\n",
    "    # r\"/home/nigmu/NPersonal/Projects/SDP/nigmu-parkinsons_disease_prediction/Dataset/MDVR RGB\",\n",
    "    r\"/home/nigmu/NPersonal/Projects/SDP/nigmu-parkinsons_disease_prediction/Dataset/Italian RGB 2\"\n",
    "]\n",
    "BATCH_SIZE = 8\n",
    "NUM_WORKERS = 0  # Optimize based on CPU\n",
    "DEVICE = torch.device(\"cuda\" if torch.cuda.is_available() else \"cpu\")\n",
    "\n",
    "# Custom Dataset Class\n",
    "class ParkinsonSpectrogramDataset(Dataset):\n",
    "    def __init__(self, root_dirs, transform=None):\n",
    "        if isinstance(root_dirs, str):  # If a single path is given, convert it to a list\n",
    "            root_dirs = [root_dirs]\n",
    "        self.root_dirs = root_dirs\n",
    "        self.transform = transform\n",
    "        self.samples = self._load_samples()\n",
    "        \n",
    "    def _load_samples(self):\n",
    "        samples = []\n",
    "        for root_dir in self.root_dirs:\n",
    "            for class_name in ['HC', 'PD']:\n",
    "                class_dir = os.path.join(root_dir, class_name)\n",
    "                if not os.path.exists(class_dir):\n",
    "                    continue\n",
    "\n",
    "                # Traverse subfolders inside HC/PD\n",
    "                for patient_folder in os.listdir(class_dir):\n",
    "                    patient_path = os.path.join(class_dir, patient_folder)\n",
    "                    if os.path.isdir(patient_path):  # Ensure it's a directory\n",
    "                        for img_file in os.listdir(patient_path):\n",
    "                            if img_file.lower().endswith('.png'):  # Only PNG images\n",
    "                                img_path = os.path.join(patient_path, img_file)\n",
    "                                samples.append((img_path, 0 if class_name == 'HC' else 1))\n",
    "\n",
    "        print(f\"✅ Loaded {len(samples)} samples from {self.root_dirs}\")\n",
    "        return samples\n",
    "\n",
    "    def __len__(self):\n",
    "        return len(self.samples)\n",
    "\n",
    "    def __getitem__(self, idx):\n",
    "        img_path, label = self.samples[idx]\n",
    "        img = Image.open(img_path).convert('RGB')  # Convert to RGB\n",
    "        if self.transform:\n",
    "            img = self.transform(img)\n",
    "        return img, label\n",
    "\n",
    "# Data Transforms\n",
    "train_transform = transforms.Compose([\n",
    "    transforms.RandomAffine(degrees=0, translate=(0.1, 0.1)),  # Only slight translations\n",
    "    transforms.ToTensor(),\n",
    "    transforms.Normalize(mean=[0.5], std=[0.5])  # Normalize between -1 and 1\n",
    "])\n",
    "\n",
    "test_transform = transforms.Compose([\n",
    "    transforms.ToTensor(),\n",
    "    transforms.Normalize(mean=[0.5], std=[0.5])\n",
    "])\n",
    "\n",
    "# Create Datasets (Loading from both MDVR & Italian datasets)\n",
    "train_dataset = ParkinsonSpectrogramDataset([os.path.join(root, 'train') for root in DATA_ROOTS], transform=train_transform)\n",
    "val_dataset = ParkinsonSpectrogramDataset([os.path.join(root, 'val') for root in DATA_ROOTS], transform=test_transform)\n",
    "test_dataset = ParkinsonSpectrogramDataset([os.path.join(root, 'test') for root in DATA_ROOTS], transform=test_transform)\n",
    "\n",
    "# Optimized DataLoaders\n",
    "train_loader = DataLoader(train_dataset, batch_size=BATCH_SIZE, shuffle=True, \n",
    "                          num_workers=NUM_WORKERS, pin_memory=True, persistent_workers=False)\n",
    "\n",
    "val_loader = DataLoader(val_dataset, batch_size=BATCH_SIZE, shuffle=False, \n",
    "                        num_workers=NUM_WORKERS, pin_memory=True, persistent_workers=False)\n",
    "\n",
    "test_loader = DataLoader(test_dataset, batch_size=BATCH_SIZE, shuffle=False, \n",
    "                         num_workers=NUM_WORKERS, pin_memory=True)\n",
    "\n",
    "print(f\"✅ DataLoaders ready! Using device: {DEVICE}\")"
   ]
  },
  {
   "cell_type": "code",
   "execution_count": null,
   "id": "913c81c7-e3de-4760-94e9-1c9df210654f",
   "metadata": {},
   "outputs": [],
   "source": []
  },
  {
   "cell_type": "code",
   "execution_count": null,
   "id": "e15c2933-ce5b-4931-b935-943c56b9787d",
   "metadata": {},
   "outputs": [],
   "source": []
  },
  {
   "cell_type": "code",
   "execution_count": null,
   "id": "4620849d-0a94-4175-8198-ca0bdbdcf6d8",
   "metadata": {},
   "outputs": [],
   "source": []
  },
  {
   "cell_type": "code",
   "execution_count": 21,
   "id": "2c18d334-8518-4769-97b0-9d4d8ca181ea",
   "metadata": {
    "scrolled": true
   },
   "outputs": [
    {
     "name": "stdout",
     "output_type": "stream",
     "text": [
      "\n",
      "🌟 Epoch 1/100\n"
     ]
    },
    {
     "name": "stderr",
     "output_type": "stream",
     "text": [
      "                                                                                "
     ]
    },
    {
     "name": "stdout",
     "output_type": "stream",
     "text": [
      "\n",
      "📈 Train Loss: 0.1707, Acc: 0.9332 | Val Loss: 0.2141, Acc: 0.9260\n",
      "\n",
      "🌟 Epoch 2/100\n"
     ]
    },
    {
     "name": "stderr",
     "output_type": "stream",
     "text": [
      "                                                                                "
     ]
    },
    {
     "name": "stdout",
     "output_type": "stream",
     "text": [
      "\n",
      "📈 Train Loss: 0.0741, Acc: 0.9741 | Val Loss: 0.2105, Acc: 0.9429\n",
      "\n",
      "🌟 Epoch 3/100\n"
     ]
    },
    {
     "name": "stderr",
     "output_type": "stream",
     "text": [
      "                                                                                "
     ]
    },
    {
     "name": "stdout",
     "output_type": "stream",
     "text": [
      "\n",
      "📈 Train Loss: 0.0506, Acc: 0.9845 | Val Loss: 0.2173, Acc: 0.9391\n",
      "\n",
      "🌟 Epoch 4/100\n"
     ]
    },
    {
     "name": "stderr",
     "output_type": "stream",
     "text": [
      "                                                                                "
     ]
    },
    {
     "name": "stdout",
     "output_type": "stream",
     "text": [
      "\n",
      "📈 Train Loss: 0.0462, Acc: 0.9839 | Val Loss: 0.3509, Acc: 0.8883\n",
      "\n",
      "🌟 Epoch 5/100\n"
     ]
    },
    {
     "name": "stderr",
     "output_type": "stream",
     "text": [
      "                                                                                "
     ]
    },
    {
     "name": "stdout",
     "output_type": "stream",
     "text": [
      "\n",
      "📈 Train Loss: 0.0407, Acc: 0.9856 | Val Loss: 0.1763, Acc: 0.9416\n",
      "\n",
      "🌟 Epoch 6/100\n"
     ]
    },
    {
     "name": "stderr",
     "output_type": "stream",
     "text": [
      "                                                                                "
     ]
    },
    {
     "name": "stdout",
     "output_type": "stream",
     "text": [
      "\n",
      "📈 Train Loss: 0.0362, Acc: 0.9872 | Val Loss: 0.2013, Acc: 0.9530\n",
      "\n",
      "🌟 Epoch 7/100\n"
     ]
    },
    {
     "name": "stderr",
     "output_type": "stream",
     "text": [
      "                                                                                "
     ]
    },
    {
     "name": "stdout",
     "output_type": "stream",
     "text": [
      "\n",
      "📈 Train Loss: 0.0319, Acc: 0.9896 | Val Loss: 0.2561, Acc: 0.9103\n",
      "\n",
      "🌟 Epoch 8/100\n"
     ]
    },
    {
     "name": "stderr",
     "output_type": "stream",
     "text": [
      "                                                                                "
     ]
    },
    {
     "name": "stdout",
     "output_type": "stream",
     "text": [
      "\n",
      "📈 Train Loss: 0.0302, Acc: 0.9900 | Val Loss: 0.1296, Acc: 0.9459\n",
      "\n",
      "🌟 Epoch 9/100\n"
     ]
    },
    {
     "name": "stderr",
     "output_type": "stream",
     "text": [
      "                                                                                "
     ]
    },
    {
     "name": "stdout",
     "output_type": "stream",
     "text": [
      "\n",
      "📈 Train Loss: 0.0238, Acc: 0.9922 | Val Loss: 0.2116, Acc: 0.9370\n",
      "\n",
      "🌟 Epoch 10/100\n"
     ]
    },
    {
     "name": "stderr",
     "output_type": "stream",
     "text": [
      "                                                                                "
     ]
    },
    {
     "name": "stdout",
     "output_type": "stream",
     "text": [
      "\n",
      "📈 Train Loss: 0.0253, Acc: 0.9913 | Val Loss: 0.1348, Acc: 0.9653\n",
      "\n",
      "🌟 Epoch 11/100\n"
     ]
    },
    {
     "name": "stderr",
     "output_type": "stream",
     "text": [
      "                                                                                "
     ]
    },
    {
     "name": "stdout",
     "output_type": "stream",
     "text": [
      "\n",
      "📈 Train Loss: 0.0177, Acc: 0.9941 | Val Loss: 0.2361, Acc: 0.9607\n",
      "\n",
      "🌟 Epoch 12/100\n"
     ]
    },
    {
     "name": "stderr",
     "output_type": "stream",
     "text": [
      "                                                                                "
     ]
    },
    {
     "name": "stdout",
     "output_type": "stream",
     "text": [
      "\n",
      "📈 Train Loss: 0.0182, Acc: 0.9937 | Val Loss: 0.1352, Acc: 0.9683\n",
      "\n",
      "🌟 Epoch 13/100\n"
     ]
    },
    {
     "name": "stderr",
     "output_type": "stream",
     "text": [
      "                                                                                "
     ]
    },
    {
     "name": "stdout",
     "output_type": "stream",
     "text": [
      "\n",
      "📈 Train Loss: 0.0237, Acc: 0.9918 | Val Loss: 0.1135, Acc: 0.9624\n",
      "\n",
      "🌟 Epoch 14/100\n"
     ]
    },
    {
     "name": "stderr",
     "output_type": "stream",
     "text": [
      "                                                                                "
     ]
    },
    {
     "name": "stdout",
     "output_type": "stream",
     "text": [
      "\n",
      "📈 Train Loss: 0.0172, Acc: 0.9935 | Val Loss: 0.2634, Acc: 0.9306\n",
      "\n",
      "🌟 Epoch 15/100\n"
     ]
    },
    {
     "name": "stderr",
     "output_type": "stream",
     "text": [
      "                                                                                "
     ]
    },
    {
     "name": "stdout",
     "output_type": "stream",
     "text": [
      "\n",
      "📈 Train Loss: 0.0187, Acc: 0.9937 | Val Loss: 0.2093, Acc: 0.9361\n",
      "\n",
      "🌟 Epoch 16/100\n"
     ]
    },
    {
     "name": "stderr",
     "output_type": "stream",
     "text": [
      "                                                                                "
     ]
    },
    {
     "name": "stdout",
     "output_type": "stream",
     "text": [
      "\n",
      "📈 Train Loss: 0.0133, Acc: 0.9958 | Val Loss: 0.2507, Acc: 0.9302\n",
      "\n",
      "🌟 Epoch 17/100\n"
     ]
    },
    {
     "name": "stderr",
     "output_type": "stream",
     "text": [
      "                                                                                "
     ]
    },
    {
     "name": "stdout",
     "output_type": "stream",
     "text": [
      "\n",
      "📈 Train Loss: 0.0146, Acc: 0.9955 | Val Loss: 0.1620, Acc: 0.9670\n",
      "\n",
      "🌟 Epoch 18/100\n"
     ]
    },
    {
     "name": "stderr",
     "output_type": "stream",
     "text": [
      "                                                                                "
     ]
    },
    {
     "name": "stdout",
     "output_type": "stream",
     "text": [
      "\n",
      "📈 Train Loss: 0.0149, Acc: 0.9952 | Val Loss: 0.2214, Acc: 0.9514\n",
      "\n",
      "🌟 Epoch 19/100\n"
     ]
    },
    {
     "name": "stderr",
     "output_type": "stream",
     "text": [
      "                                                                                "
     ]
    },
    {
     "name": "stdout",
     "output_type": "stream",
     "text": [
      "\n",
      "📈 Train Loss: 0.0128, Acc: 0.9961 | Val Loss: 0.0889, Acc: 0.9818\n",
      "\n",
      "🌟 Epoch 20/100\n"
     ]
    },
    {
     "name": "stderr",
     "output_type": "stream",
     "text": [
      "                                                                                "
     ]
    },
    {
     "name": "stdout",
     "output_type": "stream",
     "text": [
      "\n",
      "📈 Train Loss: 0.0094, Acc: 0.9966 | Val Loss: 0.2099, Acc: 0.9607\n",
      "\n",
      "🌟 Epoch 21/100\n"
     ]
    },
    {
     "name": "stderr",
     "output_type": "stream",
     "text": [
      "                                                                                "
     ]
    },
    {
     "name": "stdout",
     "output_type": "stream",
     "text": [
      "\n",
      "📈 Train Loss: 0.0126, Acc: 0.9960 | Val Loss: 0.3406, Acc: 0.9184\n",
      "\n",
      "🌟 Epoch 22/100\n"
     ]
    },
    {
     "name": "stderr",
     "output_type": "stream",
     "text": [
      "                                                                                "
     ]
    },
    {
     "name": "stdout",
     "output_type": "stream",
     "text": [
      "\n",
      "📈 Train Loss: 0.0156, Acc: 0.9955 | Val Loss: 0.2439, Acc: 0.9408\n",
      "\n",
      "🌟 Epoch 23/100\n"
     ]
    },
    {
     "name": "stderr",
     "output_type": "stream",
     "text": [
      "                                                                                "
     ]
    },
    {
     "name": "stdout",
     "output_type": "stream",
     "text": [
      "\n",
      "📈 Train Loss: 0.0112, Acc: 0.9965 | Val Loss: 0.3096, Acc: 0.9420\n",
      "\n",
      "🌟 Epoch 24/100\n"
     ]
    },
    {
     "name": "stderr",
     "output_type": "stream",
     "text": [
      "                                                                                "
     ]
    },
    {
     "name": "stdout",
     "output_type": "stream",
     "text": [
      "\n",
      "📈 Train Loss: 0.0136, Acc: 0.9955 | Val Loss: 0.1341, Acc: 0.9657\n",
      "\n",
      "🌟 Epoch 25/100\n"
     ]
    },
    {
     "name": "stderr",
     "output_type": "stream",
     "text": [
      "                                                                                "
     ]
    },
    {
     "name": "stdout",
     "output_type": "stream",
     "text": [
      "\n",
      "📈 Train Loss: 0.0109, Acc: 0.9961 | Val Loss: 0.1431, Acc: 0.9649\n",
      "\n",
      "🌟 Epoch 26/100\n"
     ]
    },
    {
     "name": "stderr",
     "output_type": "stream",
     "text": [
      "                                                                                "
     ]
    },
    {
     "name": "stdout",
     "output_type": "stream",
     "text": [
      "\n",
      "📈 Train Loss: 0.0092, Acc: 0.9969 | Val Loss: 0.1219, Acc: 0.9759\n",
      "\n",
      "🌟 Epoch 27/100\n"
     ]
    },
    {
     "name": "stderr",
     "output_type": "stream",
     "text": [
      "                                                                                "
     ]
    },
    {
     "name": "stdout",
     "output_type": "stream",
     "text": [
      "\n",
      "📈 Train Loss: 0.0127, Acc: 0.9955 | Val Loss: 0.2220, Acc: 0.9399\n",
      "\n",
      "🌟 Epoch 28/100\n"
     ]
    },
    {
     "name": "stderr",
     "output_type": "stream",
     "text": [
      "                                                                                "
     ]
    },
    {
     "name": "stdout",
     "output_type": "stream",
     "text": [
      "\n",
      "📈 Train Loss: 0.0091, Acc: 0.9972 | Val Loss: 0.4167, Acc: 0.9158\n",
      "\n",
      "🌟 Epoch 29/100\n"
     ]
    },
    {
     "name": "stderr",
     "output_type": "stream",
     "text": [
      "                                                                                "
     ]
    },
    {
     "name": "stdout",
     "output_type": "stream",
     "text": [
      "\n",
      "📈 Train Loss: 0.0093, Acc: 0.9974 | Val Loss: 0.2557, Acc: 0.9450\n",
      "\n",
      "🌟 Epoch 30/100\n"
     ]
    },
    {
     "name": "stderr",
     "output_type": "stream",
     "text": [
      "                                                                                "
     ]
    },
    {
     "name": "stdout",
     "output_type": "stream",
     "text": [
      "\n",
      "📈 Train Loss: 0.0129, Acc: 0.9971 | Val Loss: 0.1422, Acc: 0.9683\n",
      "\n",
      "🌟 Epoch 31/100\n"
     ]
    },
    {
     "name": "stderr",
     "output_type": "stream",
     "text": [
      "                                                                                "
     ]
    },
    {
     "name": "stdout",
     "output_type": "stream",
     "text": [
      "\n",
      "📈 Train Loss: 0.0087, Acc: 0.9971 | Val Loss: 0.2392, Acc: 0.9505\n",
      "\n",
      "🌟 Epoch 32/100\n"
     ]
    },
    {
     "name": "stderr",
     "output_type": "stream",
     "text": [
      "                                                                                "
     ]
    },
    {
     "name": "stdout",
     "output_type": "stream",
     "text": [
      "\n",
      "📈 Train Loss: 0.0113, Acc: 0.9960 | Val Loss: 0.4113, Acc: 0.9243\n",
      "\n",
      "🌟 Epoch 33/100\n"
     ]
    },
    {
     "name": "stderr",
     "output_type": "stream",
     "text": [
      "                                                                                "
     ]
    },
    {
     "name": "stdout",
     "output_type": "stream",
     "text": [
      "\n",
      "📈 Train Loss: 0.0095, Acc: 0.9966 | Val Loss: 0.1711, Acc: 0.9640\n",
      "\n",
      "🌟 Epoch 34/100\n"
     ]
    },
    {
     "name": "stderr",
     "output_type": "stream",
     "text": [
      "                                                                                "
     ]
    },
    {
     "name": "stdout",
     "output_type": "stream",
     "text": [
      "\n",
      "📈 Train Loss: 0.0085, Acc: 0.9974 | Val Loss: 0.2161, Acc: 0.9459\n",
      "\n",
      "🌟 Epoch 35/100\n"
     ]
    },
    {
     "name": "stderr",
     "output_type": "stream",
     "text": [
      "                                                                                "
     ]
    },
    {
     "name": "stdout",
     "output_type": "stream",
     "text": [
      "\n",
      "📈 Train Loss: 0.0088, Acc: 0.9973 | Val Loss: 0.5976, Acc: 0.8866\n",
      "\n",
      "🌟 Epoch 36/100\n"
     ]
    },
    {
     "name": "stderr",
     "output_type": "stream",
     "text": [
      "                                                                                "
     ]
    },
    {
     "name": "stdout",
     "output_type": "stream",
     "text": [
      "\n",
      "📈 Train Loss: 0.0104, Acc: 0.9969 | Val Loss: 0.3044, Acc: 0.9429\n",
      "\n",
      "🌟 Epoch 37/100\n"
     ]
    },
    {
     "name": "stderr",
     "output_type": "stream",
     "text": [
      "                                                                                "
     ]
    },
    {
     "name": "stdout",
     "output_type": "stream",
     "text": [
      "\n",
      "📈 Train Loss: 0.0104, Acc: 0.9969 | Val Loss: 0.2284, Acc: 0.9552\n",
      "\n",
      "🌟 Epoch 38/100\n"
     ]
    },
    {
     "name": "stderr",
     "output_type": "stream",
     "text": [
      "                                                                                "
     ]
    },
    {
     "name": "stdout",
     "output_type": "stream",
     "text": [
      "\n",
      "📈 Train Loss: 0.0075, Acc: 0.9976 | Val Loss: 0.2973, Acc: 0.9404\n",
      "\n",
      "🌟 Epoch 39/100\n"
     ]
    },
    {
     "name": "stderr",
     "output_type": "stream",
     "text": [
      "                                                                                "
     ]
    },
    {
     "name": "stdout",
     "output_type": "stream",
     "text": [
      "\n",
      "📈 Train Loss: 0.0094, Acc: 0.9971 | Val Loss: 0.1722, Acc: 0.9607\n",
      "\n",
      "🌟 Epoch 40/100\n"
     ]
    },
    {
     "name": "stderr",
     "output_type": "stream",
     "text": [
      "                                                                                "
     ]
    },
    {
     "name": "stdout",
     "output_type": "stream",
     "text": [
      "\n",
      "📈 Train Loss: 0.0081, Acc: 0.9972 | Val Loss: 0.2485, Acc: 0.9450\n",
      "\n",
      "🌟 Epoch 41/100\n"
     ]
    },
    {
     "name": "stderr",
     "output_type": "stream",
     "text": [
      "                                                                                "
     ]
    },
    {
     "name": "stdout",
     "output_type": "stream",
     "text": [
      "\n",
      "📈 Train Loss: 0.0073, Acc: 0.9972 | Val Loss: 0.1983, Acc: 0.9480\n",
      "\n",
      "🌟 Epoch 42/100\n"
     ]
    },
    {
     "name": "stderr",
     "output_type": "stream",
     "text": [
      "                                                                                "
     ]
    },
    {
     "name": "stdout",
     "output_type": "stream",
     "text": [
      "\n",
      "📈 Train Loss: 0.0059, Acc: 0.9979 | Val Loss: 0.2435, Acc: 0.9543\n",
      "\n",
      "🌟 Epoch 43/100\n"
     ]
    },
    {
     "name": "stderr",
     "output_type": "stream",
     "text": [
      "                                                                                "
     ]
    },
    {
     "name": "stdout",
     "output_type": "stream",
     "text": [
      "\n",
      "📈 Train Loss: 0.0083, Acc: 0.9974 | Val Loss: 0.2028, Acc: 0.9594\n",
      "\n",
      "🌟 Epoch 44/100\n"
     ]
    },
    {
     "name": "stderr",
     "output_type": "stream",
     "text": [
      "                                                                                "
     ]
    },
    {
     "name": "stdout",
     "output_type": "stream",
     "text": [
      "\n",
      "📈 Train Loss: 0.0084, Acc: 0.9970 | Val Loss: 0.2132, Acc: 0.9450\n",
      "\n",
      "🌟 Epoch 45/100\n"
     ]
    },
    {
     "name": "stderr",
     "output_type": "stream",
     "text": [
      "                                                                                "
     ]
    },
    {
     "name": "stdout",
     "output_type": "stream",
     "text": [
      "\n",
      "📈 Train Loss: 0.0066, Acc: 0.9979 | Val Loss: 0.2737, Acc: 0.9154\n",
      "\n",
      "🌟 Epoch 46/100\n"
     ]
    },
    {
     "name": "stderr",
     "output_type": "stream",
     "text": [
      "                                                                                "
     ]
    },
    {
     "name": "stdout",
     "output_type": "stream",
     "text": [
      "\n",
      "📈 Train Loss: 0.0070, Acc: 0.9974 | Val Loss: 0.2912, Acc: 0.9416\n",
      "\n",
      "🌟 Epoch 47/100\n"
     ]
    },
    {
     "name": "stderr",
     "output_type": "stream",
     "text": [
      "                                                                                "
     ]
    },
    {
     "name": "stdout",
     "output_type": "stream",
     "text": [
      "\n",
      "📈 Train Loss: 0.0080, Acc: 0.9971 | Val Loss: 0.4220, Acc: 0.9112\n",
      "\n",
      "🌟 Epoch 48/100\n"
     ]
    },
    {
     "name": "stderr",
     "output_type": "stream",
     "text": [
      "                                                                                "
     ]
    },
    {
     "name": "stdout",
     "output_type": "stream",
     "text": [
      "\n",
      "📈 Train Loss: 0.0069, Acc: 0.9974 | Val Loss: 0.2270, Acc: 0.9683\n",
      "\n",
      "🌟 Epoch 49/100\n"
     ]
    },
    {
     "name": "stderr",
     "output_type": "stream",
     "text": [
      "                                                                                "
     ]
    },
    {
     "name": "stdout",
     "output_type": "stream",
     "text": [
      "\n",
      "📈 Train Loss: 0.0088, Acc: 0.9974 | Val Loss: 0.4163, Acc: 0.9217\n",
      "\n",
      "🌟 Epoch 50/100\n"
     ]
    },
    {
     "name": "stderr",
     "output_type": "stream",
     "text": [
      "                                                                                "
     ]
    },
    {
     "name": "stdout",
     "output_type": "stream",
     "text": [
      "\n",
      "📈 Train Loss: 0.0055, Acc: 0.9983 | Val Loss: 0.2057, Acc: 0.9602\n",
      "\n",
      "🌟 Epoch 51/100\n"
     ]
    },
    {
     "name": "stderr",
     "output_type": "stream",
     "text": [
      "                                                                                "
     ]
    },
    {
     "name": "stdout",
     "output_type": "stream",
     "text": [
      "\n",
      "📈 Train Loss: 0.0059, Acc: 0.9976 | Val Loss: 0.3534, Acc: 0.9255\n",
      "\n",
      "🌟 Epoch 52/100\n"
     ]
    },
    {
     "name": "stderr",
     "output_type": "stream",
     "text": [
      "                                                                                "
     ]
    },
    {
     "name": "stdout",
     "output_type": "stream",
     "text": [
      "\n",
      "📈 Train Loss: 0.0081, Acc: 0.9972 | Val Loss: 0.2307, Acc: 0.9505\n",
      "\n",
      "🌟 Epoch 53/100\n"
     ]
    },
    {
     "name": "stderr",
     "output_type": "stream",
     "text": [
      "                                                                                "
     ]
    },
    {
     "name": "stdout",
     "output_type": "stream",
     "text": [
      "\n",
      "📈 Train Loss: 0.0050, Acc: 0.9983 | Val Loss: 0.1793, Acc: 0.9683\n",
      "\n",
      "🌟 Epoch 54/100\n"
     ]
    },
    {
     "name": "stderr",
     "output_type": "stream",
     "text": [
      "                                                                                "
     ]
    },
    {
     "name": "stdout",
     "output_type": "stream",
     "text": [
      "\n",
      "📈 Train Loss: 0.0090, Acc: 0.9974 | Val Loss: 0.2823, Acc: 0.9467\n",
      "\n",
      "🌟 Epoch 55/100\n"
     ]
    },
    {
     "name": "stderr",
     "output_type": "stream",
     "text": [
      "                                                                                "
     ]
    },
    {
     "name": "stdout",
     "output_type": "stream",
     "text": [
      "\n",
      "📈 Train Loss: 0.0044, Acc: 0.9987 | Val Loss: 0.1806, Acc: 0.9687\n",
      "\n",
      "🌟 Epoch 56/100\n"
     ]
    },
    {
     "name": "stderr",
     "output_type": "stream",
     "text": [
      "                                                                                "
     ]
    },
    {
     "name": "stdout",
     "output_type": "stream",
     "text": [
      "\n",
      "📈 Train Loss: 0.0048, Acc: 0.9984 | Val Loss: 0.2862, Acc: 0.9425\n",
      "\n",
      "🌟 Epoch 57/100\n"
     ]
    },
    {
     "name": "stderr",
     "output_type": "stream",
     "text": [
      "                                                                                "
     ]
    },
    {
     "name": "stdout",
     "output_type": "stream",
     "text": [
      "\n",
      "📈 Train Loss: 0.0075, Acc: 0.9976 | Val Loss: 0.2783, Acc: 0.9480\n",
      "\n",
      "🌟 Epoch 58/100\n"
     ]
    },
    {
     "name": "stderr",
     "output_type": "stream",
     "text": [
      "                                                                                "
     ]
    },
    {
     "name": "stdout",
     "output_type": "stream",
     "text": [
      "\n",
      "📈 Train Loss: 0.0051, Acc: 0.9986 | Val Loss: 0.2736, Acc: 0.9535\n",
      "\n",
      "🌟 Epoch 59/100\n"
     ]
    },
    {
     "name": "stderr",
     "output_type": "stream",
     "text": [
      "                                                                                "
     ]
    },
    {
     "name": "stdout",
     "output_type": "stream",
     "text": [
      "\n",
      "📈 Train Loss: 0.0053, Acc: 0.9980 | Val Loss: 0.2203, Acc: 0.9514\n",
      "\n",
      "🌟 Epoch 60/100\n"
     ]
    },
    {
     "name": "stderr",
     "output_type": "stream",
     "text": [
      "                                                                                "
     ]
    },
    {
     "name": "stdout",
     "output_type": "stream",
     "text": [
      "\n",
      "📈 Train Loss: 0.0032, Acc: 0.9991 | Val Loss: 0.2347, Acc: 0.9530\n",
      "\n",
      "🌟 Epoch 61/100\n"
     ]
    },
    {
     "name": "stderr",
     "output_type": "stream",
     "text": [
      "                                                                                "
     ]
    },
    {
     "name": "stdout",
     "output_type": "stream",
     "text": [
      "\n",
      "📈 Train Loss: 0.0074, Acc: 0.9974 | Val Loss: 0.2418, Acc: 0.9387\n",
      "\n",
      "🌟 Epoch 62/100\n"
     ]
    },
    {
     "name": "stderr",
     "output_type": "stream",
     "text": [
      "                                                                                "
     ]
    },
    {
     "name": "stdout",
     "output_type": "stream",
     "text": [
      "\n",
      "📈 Train Loss: 0.0072, Acc: 0.9978 | Val Loss: 0.3063, Acc: 0.9336\n",
      "\n",
      "🌟 Epoch 63/100\n"
     ]
    },
    {
     "name": "stderr",
     "output_type": "stream",
     "text": [
      "                                                                                "
     ]
    },
    {
     "name": "stdout",
     "output_type": "stream",
     "text": [
      "\n",
      "📈 Train Loss: 0.0043, Acc: 0.9988 | Val Loss: 0.2026, Acc: 0.9547\n",
      "\n",
      "🌟 Epoch 64/100\n"
     ]
    },
    {
     "name": "stderr",
     "output_type": "stream",
     "text": [
      "                                                                                "
     ]
    },
    {
     "name": "stdout",
     "output_type": "stream",
     "text": [
      "\n",
      "📈 Train Loss: 0.0043, Acc: 0.9988 | Val Loss: 0.2698, Acc: 0.9467\n",
      "\n",
      "🌟 Epoch 65/100\n"
     ]
    },
    {
     "name": "stderr",
     "output_type": "stream",
     "text": [
      "                                                                                "
     ]
    },
    {
     "name": "stdout",
     "output_type": "stream",
     "text": [
      "\n",
      "📈 Train Loss: 0.0054, Acc: 0.9981 | Val Loss: 0.2038, Acc: 0.9412\n",
      "\n",
      "🌟 Epoch 66/100\n"
     ]
    },
    {
     "name": "stderr",
     "output_type": "stream",
     "text": [
      "                                                                                "
     ]
    },
    {
     "name": "stdout",
     "output_type": "stream",
     "text": [
      "\n",
      "📈 Train Loss: 0.0032, Acc: 0.9988 | Val Loss: 0.2319, Acc: 0.9488\n",
      "\n",
      "🌟 Epoch 67/100\n"
     ]
    },
    {
     "name": "stderr",
     "output_type": "stream",
     "text": [
      "                                                                                "
     ]
    },
    {
     "name": "stdout",
     "output_type": "stream",
     "text": [
      "\n",
      "📈 Train Loss: 0.0059, Acc: 0.9981 | Val Loss: 0.1896, Acc: 0.9640\n",
      "\n",
      "🌟 Epoch 68/100\n"
     ]
    },
    {
     "name": "stderr",
     "output_type": "stream",
     "text": [
      "                                                                                "
     ]
    },
    {
     "name": "stdout",
     "output_type": "stream",
     "text": [
      "\n",
      "📈 Train Loss: 0.0036, Acc: 0.9985 | Val Loss: 0.3054, Acc: 0.9353\n",
      "\n",
      "🌟 Epoch 69/100\n"
     ]
    },
    {
     "name": "stderr",
     "output_type": "stream",
     "text": [
      "                                                                                "
     ]
    },
    {
     "name": "stdout",
     "output_type": "stream",
     "text": [
      "\n",
      "📈 Train Loss: 0.0039, Acc: 0.9987 | Val Loss: 0.1864, Acc: 0.9657\n",
      "\n",
      "🌟 Epoch 70/100\n"
     ]
    },
    {
     "name": "stderr",
     "output_type": "stream",
     "text": [
      "                                                                                "
     ]
    },
    {
     "name": "stdout",
     "output_type": "stream",
     "text": [
      "\n",
      "📈 Train Loss: 0.0028, Acc: 0.9992 | Val Loss: 0.3473, Acc: 0.9416\n",
      "\n",
      "🌟 Epoch 71/100\n"
     ]
    },
    {
     "name": "stderr",
     "output_type": "stream",
     "text": [
      "                                                                                "
     ]
    },
    {
     "name": "stdout",
     "output_type": "stream",
     "text": [
      "\n",
      "📈 Train Loss: 0.0101, Acc: 0.9975 | Val Loss: 0.1530, Acc: 0.9738\n",
      "\n",
      "🌟 Epoch 72/100\n"
     ]
    },
    {
     "name": "stderr",
     "output_type": "stream",
     "text": [
      "                                                                                "
     ]
    },
    {
     "name": "stdout",
     "output_type": "stream",
     "text": [
      "\n",
      "📈 Train Loss: 0.0053, Acc: 0.9979 | Val Loss: 0.0905, Acc: 0.9772\n",
      "\n",
      "🌟 Epoch 73/100\n"
     ]
    },
    {
     "name": "stderr",
     "output_type": "stream",
     "text": [
      "                                                                                "
     ]
    },
    {
     "name": "stdout",
     "output_type": "stream",
     "text": [
      "\n",
      "📈 Train Loss: 0.0036, Acc: 0.9990 | Val Loss: 0.2641, Acc: 0.9492\n",
      "\n",
      "🌟 Epoch 74/100\n"
     ]
    },
    {
     "name": "stderr",
     "output_type": "stream",
     "text": [
      "                                                                                "
     ]
    },
    {
     "name": "stdout",
     "output_type": "stream",
     "text": [
      "\n",
      "📈 Train Loss: 0.0069, Acc: 0.9974 | Val Loss: 0.2041, Acc: 0.9552\n",
      "\n",
      "🌟 Epoch 75/100\n"
     ]
    },
    {
     "name": "stderr",
     "output_type": "stream",
     "text": [
      "                                                                                "
     ]
    },
    {
     "name": "stdout",
     "output_type": "stream",
     "text": [
      "\n",
      "📈 Train Loss: 0.0030, Acc: 0.9993 | Val Loss: 0.1782, Acc: 0.9649\n",
      "\n",
      "🌟 Epoch 76/100\n"
     ]
    },
    {
     "name": "stderr",
     "output_type": "stream",
     "text": [
      "                                                                                "
     ]
    },
    {
     "name": "stdout",
     "output_type": "stream",
     "text": [
      "\n",
      "📈 Train Loss: 0.0062, Acc: 0.9976 | Val Loss: 0.3294, Acc: 0.9518\n",
      "\n",
      "🌟 Epoch 77/100\n"
     ]
    },
    {
     "name": "stderr",
     "output_type": "stream",
     "text": [
      "                                                                                "
     ]
    },
    {
     "name": "stdout",
     "output_type": "stream",
     "text": [
      "\n",
      "📈 Train Loss: 0.0022, Acc: 0.9992 | Val Loss: 0.4316, Acc: 0.9370\n",
      "\n",
      "🌟 Epoch 78/100\n"
     ]
    },
    {
     "name": "stderr",
     "output_type": "stream",
     "text": [
      "                                                                                "
     ]
    },
    {
     "name": "stdout",
     "output_type": "stream",
     "text": [
      "\n",
      "📈 Train Loss: 0.0061, Acc: 0.9982 | Val Loss: 0.2686, Acc: 0.9569\n",
      "\n",
      "🌟 Epoch 79/100\n"
     ]
    },
    {
     "name": "stderr",
     "output_type": "stream",
     "text": [
      "                                                                                "
     ]
    },
    {
     "name": "stdout",
     "output_type": "stream",
     "text": [
      "\n",
      "📈 Train Loss: 0.0037, Acc: 0.9988 | Val Loss: 0.2873, Acc: 0.9488\n",
      "\n",
      "🌟 Epoch 80/100\n"
     ]
    },
    {
     "name": "stderr",
     "output_type": "stream",
     "text": [
      "                                                                                "
     ]
    },
    {
     "name": "stdout",
     "output_type": "stream",
     "text": [
      "\n",
      "📈 Train Loss: 0.0040, Acc: 0.9989 | Val Loss: 0.2870, Acc: 0.9429\n",
      "\n",
      "🌟 Epoch 81/100\n"
     ]
    },
    {
     "name": "stderr",
     "output_type": "stream",
     "text": [
      "                                                                                "
     ]
    },
    {
     "name": "stdout",
     "output_type": "stream",
     "text": [
      "\n",
      "📈 Train Loss: 0.0036, Acc: 0.9986 | Val Loss: 0.2449, Acc: 0.9670\n",
      "\n",
      "🌟 Epoch 82/100\n"
     ]
    },
    {
     "name": "stderr",
     "output_type": "stream",
     "text": [
      "                                                                                "
     ]
    },
    {
     "name": "stdout",
     "output_type": "stream",
     "text": [
      "\n",
      "📈 Train Loss: 0.0043, Acc: 0.9990 | Val Loss: 0.2751, Acc: 0.9590\n",
      "\n",
      "🌟 Epoch 83/100\n"
     ]
    },
    {
     "name": "stderr",
     "output_type": "stream",
     "text": [
      "                                                                                "
     ]
    },
    {
     "name": "stdout",
     "output_type": "stream",
     "text": [
      "\n",
      "📈 Train Loss: 0.0054, Acc: 0.9983 | Val Loss: 0.3188, Acc: 0.9459\n",
      "\n",
      "🌟 Epoch 84/100\n"
     ]
    },
    {
     "name": "stderr",
     "output_type": "stream",
     "text": [
      "                                                                                "
     ]
    },
    {
     "name": "stdout",
     "output_type": "stream",
     "text": [
      "\n",
      "📈 Train Loss: 0.0030, Acc: 0.9991 | Val Loss: 0.3480, Acc: 0.9365\n",
      "\n",
      "🌟 Epoch 85/100\n"
     ]
    },
    {
     "name": "stderr",
     "output_type": "stream",
     "text": [
      "                                                                                "
     ]
    },
    {
     "name": "stdout",
     "output_type": "stream",
     "text": [
      "\n",
      "📈 Train Loss: 0.0032, Acc: 0.9987 | Val Loss: 0.4703, Acc: 0.9209\n",
      "\n",
      "🌟 Epoch 86/100\n"
     ]
    },
    {
     "name": "stderr",
     "output_type": "stream",
     "text": [
      "                                                                                "
     ]
    },
    {
     "name": "stdout",
     "output_type": "stream",
     "text": [
      "\n",
      "📈 Train Loss: 0.0057, Acc: 0.9979 | Val Loss: 0.5958, Acc: 0.8777\n",
      "\n",
      "🌟 Epoch 87/100\n"
     ]
    },
    {
     "name": "stderr",
     "output_type": "stream",
     "text": [
      "                                                                                "
     ]
    },
    {
     "name": "stdout",
     "output_type": "stream",
     "text": [
      "\n",
      "📈 Train Loss: 0.0053, Acc: 0.9988 | Val Loss: 0.2089, Acc: 0.9653\n",
      "\n",
      "🌟 Epoch 88/100\n"
     ]
    },
    {
     "name": "stderr",
     "output_type": "stream",
     "text": [
      "                                                                                "
     ]
    },
    {
     "name": "stdout",
     "output_type": "stream",
     "text": [
      "\n",
      "📈 Train Loss: 0.0038, Acc: 0.9985 | Val Loss: 0.1488, Acc: 0.9712\n",
      "\n",
      "🌟 Epoch 89/100\n"
     ]
    },
    {
     "name": "stderr",
     "output_type": "stream",
     "text": [
      "                                                                                "
     ]
    },
    {
     "name": "stdout",
     "output_type": "stream",
     "text": [
      "\n",
      "📈 Train Loss: 0.0017, Acc: 0.9995 | Val Loss: 0.0902, Acc: 0.9759\n",
      "\n",
      "🌟 Epoch 90/100\n"
     ]
    },
    {
     "name": "stderr",
     "output_type": "stream",
     "text": [
      "                                                                                "
     ]
    },
    {
     "name": "stdout",
     "output_type": "stream",
     "text": [
      "\n",
      "📈 Train Loss: 0.0060, Acc: 0.9980 | Val Loss: 0.2048, Acc: 0.9518\n",
      "\n",
      "🌟 Epoch 91/100\n"
     ]
    },
    {
     "name": "stderr",
     "output_type": "stream",
     "text": [
      "                                                                                "
     ]
    },
    {
     "name": "stdout",
     "output_type": "stream",
     "text": [
      "\n",
      "📈 Train Loss: 0.0017, Acc: 0.9995 | Val Loss: 0.2793, Acc: 0.9530\n",
      "\n",
      "🌟 Epoch 92/100\n"
     ]
    },
    {
     "name": "stderr",
     "output_type": "stream",
     "text": [
      "                                                                                "
     ]
    },
    {
     "name": "stdout",
     "output_type": "stream",
     "text": [
      "\n",
      "📈 Train Loss: 0.0057, Acc: 0.9980 | Val Loss: 0.2541, Acc: 0.9433\n",
      "\n",
      "🌟 Epoch 93/100\n"
     ]
    },
    {
     "name": "stderr",
     "output_type": "stream",
     "text": [
      "                                                                                "
     ]
    },
    {
     "name": "stdout",
     "output_type": "stream",
     "text": [
      "\n",
      "📈 Train Loss: 0.0012, Acc: 0.9994 | Val Loss: 0.4708, Acc: 0.9234\n",
      "\n",
      "🌟 Epoch 94/100\n"
     ]
    },
    {
     "name": "stderr",
     "output_type": "stream",
     "text": [
      "                                                                                "
     ]
    },
    {
     "name": "stdout",
     "output_type": "stream",
     "text": [
      "\n",
      "📈 Train Loss: 0.0056, Acc: 0.9983 | Val Loss: 0.3136, Acc: 0.9463\n",
      "\n",
      "🌟 Epoch 95/100\n"
     ]
    },
    {
     "name": "stderr",
     "output_type": "stream",
     "text": [
      "                                                                                "
     ]
    },
    {
     "name": "stdout",
     "output_type": "stream",
     "text": [
      "\n",
      "📈 Train Loss: 0.0056, Acc: 0.9981 | Val Loss: 0.4203, Acc: 0.9196\n",
      "\n",
      "🌟 Epoch 96/100\n"
     ]
    },
    {
     "name": "stderr",
     "output_type": "stream",
     "text": [
      "                                                                                "
     ]
    },
    {
     "name": "stdout",
     "output_type": "stream",
     "text": [
      "\n",
      "📈 Train Loss: 0.0048, Acc: 0.9985 | Val Loss: 0.2274, Acc: 0.9518\n",
      "\n",
      "🌟 Epoch 97/100\n"
     ]
    },
    {
     "name": "stderr",
     "output_type": "stream",
     "text": [
      "                                                                                "
     ]
    },
    {
     "name": "stdout",
     "output_type": "stream",
     "text": [
      "\n",
      "📈 Train Loss: 0.0033, Acc: 0.9988 | Val Loss: 0.3544, Acc: 0.9374\n",
      "\n",
      "🌟 Epoch 98/100\n"
     ]
    },
    {
     "name": "stderr",
     "output_type": "stream",
     "text": [
      "                                                                                "
     ]
    },
    {
     "name": "stdout",
     "output_type": "stream",
     "text": [
      "\n",
      "📈 Train Loss: 0.0025, Acc: 0.9995 | Val Loss: 0.2896, Acc: 0.9530\n",
      "\n",
      "🌟 Epoch 99/100\n"
     ]
    },
    {
     "name": "stderr",
     "output_type": "stream",
     "text": [
      "                                                                                "
     ]
    },
    {
     "name": "stdout",
     "output_type": "stream",
     "text": [
      "\n",
      "📈 Train Loss: 0.0045, Acc: 0.9992 | Val Loss: 0.3143, Acc: 0.9484\n",
      "\n",
      "🌟 Epoch 100/100\n"
     ]
    },
    {
     "name": "stderr",
     "output_type": "stream",
     "text": [
      "                                                                                "
     ]
    },
    {
     "name": "stdout",
     "output_type": "stream",
     "text": [
      "\n",
      "📈 Train Loss: 0.0019, Acc: 0.9994 | Val Loss: 0.3383, Acc: 0.9509\n",
      "\n",
      "🚀 Testing best model...\n"
     ]
    },
    {
     "name": "stderr",
     "output_type": "stream",
     "text": [
      "Testing: 100%|████████████████████████████████| 537/537 [00:26<00:00, 20.03it/s]"
     ]
    },
    {
     "name": "stdout",
     "output_type": "stream",
     "text": [
      "\n",
      "✅ Test Accuracy: 97.02%\n"
     ]
    },
    {
     "name": "stderr",
     "output_type": "stream",
     "text": [
      "\n"
     ]
    }
   ],
   "source": [
    "# 🚀 Full Pipeline for Pretrained DenseNet121 with RGB Spectrograms\n",
    "\n",
    "import os\n",
    "import time\n",
    "import torch\n",
    "import torch.nn as nn\n",
    "from torch.utils.data import DataLoader\n",
    "from torchvision import models, transforms, datasets\n",
    "from tqdm import tqdm\n",
    "\n",
    "# ============================\n",
    "# ✅ Configuration\n",
    "# ============================\n",
    "# DATA_DIR = \"/home/nigmu/NPersonal/Projects/SDP/nigmu-parkinsons_disease_prediction/Dataset/MDVR RGB\"\n",
    "# DATA_DIR = \"/home/nigmu/NPersonal/Projects/SDP/nigmu-parkinsons_disease_prediction/Dataset/Italian RGB\"\n",
    "# BATCH_SIZE = 32\n",
    "NUM_CLASSES = 2\n",
    "EPOCHS = 100\n",
    "LEARNING_RATE = 1e-4\n",
    "DEVICE = torch.device(\"cuda\" if torch.cuda.is_available() else \"cpu\")\n",
    "\n",
    "# ============================\n",
    "# ✅ Data Transforms\n",
    "# ============================\n",
    "transform = transforms.Compose([\n",
    "    transforms.Resize((224, 224)),  # Resize from (496x200) to 224x224 for DenseNet\n",
    "    transforms.ToTensor(),\n",
    "    transforms.Normalize(mean=[0.485, 0.456, 0.406],\n",
    "                         std=[0.229, 0.224, 0.225]),\n",
    "])\n",
    "\n",
    "# ============================\n",
    "# ✅ Dataset and DataLoader\n",
    "# ============================\n",
    "# train_dataset = datasets.ImageFolder(os.path.join(DATA_DIR, 'train'), transform=transform)\n",
    "# val_dataset   = datasets.ImageFolder(os.path.join(DATA_DIR, 'val'), transform=transform)\n",
    "# test_dataset  = datasets.ImageFolder(os.path.join(DATA_DIR, 'test'), transform=transform)\n",
    "\n",
    "# train_loader = DataLoader(train_dataset, batch_size=BATCH_SIZE, shuffle=True, num_workers=4)\n",
    "# val_loader   = DataLoader(val_dataset, batch_size=BATCH_SIZE, shuffle=False, num_workers=4)\n",
    "# test_loader  = DataLoader(test_dataset, batch_size=BATCH_SIZE, shuffle=False, num_workers=4)\n",
    "\n",
    "# ============================\n",
    "# ✅ Model Definition\n",
    "# ============================\n",
    "\n",
    "\n",
    "# # mFrom here \n",
    "class CustomDenseNet121(nn.Module):\n",
    "    def __init__(self, num_classes=NUM_CLASSES):\n",
    "        super(CustomDenseNet121, self).__init__()\n",
    "        base_model = models.densenet121(weights=models.DenseNet121_Weights.DEFAULT)\n",
    "\n",
    "        self.features = base_model.features  # All layers up to final conv\n",
    "        self.global_avg_pool = nn.AdaptiveAvgPool2d((1, 1))  # Global Average Pooling\n",
    "        self.fc1 = nn.Linear(base_model.classifier.in_features, 128)\n",
    "        self.relu = nn.ReLU()\n",
    "        self.classifier = nn.Linear(128, num_classes)\n",
    "\n",
    "    def forward(self, x):\n",
    "        x = self.features(x)\n",
    "        x = self.global_avg_pool(x)\n",
    "        x = torch.flatten(x, 1)\n",
    "        x = self.relu(self.fc1(x))\n",
    "        x = self.classifier(x)\n",
    "        return x\n",
    "\n",
    "model = CustomDenseNet121(num_classes=NUM_CLASSES).to(DEVICE)\n",
    "# #To here\n",
    "\n",
    "\n",
    "# # from here\n",
    "# model = models.densenet121(weights=models.DenseNet121_Weights.DEFAULT)\n",
    "# model.classifier = nn.Linear(model.classifier.in_features, NUM_CLASSES)\n",
    "# model = model.to(DEVICE)\n",
    "# # to here\n",
    "\n",
    "# ============================\n",
    "# ✅ Loss and Optimizer\n",
    "# ============================\n",
    "criterion = nn.CrossEntropyLoss()\n",
    "optimizer = torch.optim.Adam(model.parameters(), lr=LEARNING_RATE)\n",
    "\n",
    "# ============================\n",
    "# ✅ Training and Validation Loop\n",
    "# ============================\n",
    "\n",
    "\n",
    "# Store metrics for plotting\n",
    "train_losses = []\n",
    "train_accuracies = []\n",
    "val_losses = []\n",
    "val_accuracies = []\n",
    "test_accuracy = None  # Final test accuracy\n",
    "\n",
    "\n",
    "\n",
    "def train_epoch(model, loader, optimizer, criterion):\n",
    "    model.train()\n",
    "    running_loss, correct, total = 0.0, 0, 0\n",
    "    loop = tqdm(loader, desc=\"Training\", leave=False)\n",
    "    for images, labels in loop:\n",
    "        images, labels = images.to(DEVICE), labels.to(DEVICE)\n",
    "\n",
    "        optimizer.zero_grad()\n",
    "        outputs = model(images)\n",
    "        loss = criterion(outputs, labels)\n",
    "        loss.backward()\n",
    "        optimizer.step()\n",
    "\n",
    "        running_loss += loss.item() * images.size(0)\n",
    "        _, preds = torch.max(outputs, 1)\n",
    "        correct += (preds == labels).sum().item()\n",
    "        total += labels.size(0)\n",
    "\n",
    "        loop.set_postfix(loss=loss.item(), acc=100. * correct / total)\n",
    "\n",
    "    return running_loss / total, correct / total\n",
    "\n",
    "def validate_epoch(model, loader, criterion):\n",
    "    model.eval()\n",
    "    running_loss, correct, total = 0.0, 0, 0\n",
    "    with torch.no_grad():\n",
    "        loop = tqdm(loader, desc=\"Validation\", leave=False)\n",
    "        for images, labels in loop:\n",
    "            images, labels = images.to(DEVICE), labels.to(DEVICE)\n",
    "            outputs = model(images)\n",
    "            loss = criterion(outputs, labels)\n",
    "\n",
    "            running_loss += loss.item() * images.size(0)\n",
    "            _, preds = torch.max(outputs, 1)\n",
    "            correct += (preds == labels).sum().item()\n",
    "            total += labels.size(0)\n",
    "\n",
    "            loop.set_postfix(loss=loss.item(), acc=100. * correct / total)\n",
    "\n",
    "    return running_loss / total, correct / total\n",
    "\n",
    "# ============================\n",
    "# ✅ Run Training\n",
    "# ============================\n",
    "for epoch in range(EPOCHS):\n",
    "    print(f\"\\n🌟 Epoch {epoch+1}/{EPOCHS}\")\n",
    "    train_loss, train_acc = train_epoch(model, train_loader, optimizer, criterion)\n",
    "    val_loss, val_acc = validate_epoch(model, val_loader, criterion)\n",
    "\n",
    "    # Save metrics\n",
    "    train_losses.append(train_loss)\n",
    "    train_accuracies.append(train_acc)\n",
    "    val_losses.append(val_loss)\n",
    "    val_accuracies.append(val_acc)\n",
    "\n",
    "    \n",
    "    print(f\"\\n📈 Train Loss: {train_loss:.4f}, Acc: {train_acc:.4f} | Val Loss: {val_loss:.4f}, Acc: {val_acc:.4f}\")\n",
    "\n",
    "# ============================\n",
    "# ✅ Testing\n",
    "# ============================\n",
    "def test_model(model, loader):\n",
    "    model.eval()\n",
    "    correct, total = 0, 0\n",
    "    with torch.no_grad():\n",
    "        for images, labels in tqdm(loader, desc=\"Testing\"):\n",
    "            images, labels = images.to(DEVICE), labels.to(DEVICE)\n",
    "            outputs = model(images)\n",
    "            _, preds = torch.max(outputs, 1)\n",
    "            correct += (preds == labels).sum().item()\n",
    "            total += labels.size(0)\n",
    "\n",
    "    acc = 100. * correct / total\n",
    "    print(f\"\\n✅ Test Accuracy: {acc:.2f}%\")\n",
    "    return acc  # <- Return value for test_accuracy\n",
    "\n",
    "# Run test\n",
    "print(\"\\n🚀 Testing best model...\")\n",
    "test_accuracy = test_model(model, test_loader)"
   ]
  },
  {
   "cell_type": "code",
   "execution_count": 22,
   "id": "0cf0c350-bae6-4182-a63b-56deecb64144",
   "metadata": {},
   "outputs": [
    {
     "name": "stdout",
     "output_type": "stream",
     "text": [
      "✅ Model saved as 'best_model6.pth'\n"
     ]
    }
   ],
   "source": [
    "# Save the trained model\n",
    "torch.save(model.state_dict(), 'best_model6.pth')\n",
    "print(\"✅ Model saved as 'best_model6.pth'\")"
   ]
  },
  {
   "cell_type": "code",
   "execution_count": null,
   "id": "15cf7a3a-f65b-49c3-9e62-49c822b81c3a",
   "metadata": {},
   "outputs": [],
   "source": []
  },
  {
   "cell_type": "code",
   "execution_count": 23,
   "id": "f109fae2-cd51-4803-83a3-e5f6cbaeb69e",
   "metadata": {},
   "outputs": [
    {
     "name": "stdout",
     "output_type": "stream",
     "text": [
      "\n",
      "🚀 Testing best model...\n"
     ]
    },
    {
     "name": "stderr",
     "output_type": "stream",
     "text": [
      "Testing: 100%|████████████████████████████████| 537/537 [00:27<00:00, 19.82it/s]\n"
     ]
    },
    {
     "name": "stdout",
     "output_type": "stream",
     "text": [
      "\n",
      "✅ Test Accuracy: 97.02%\n"
     ]
    },
    {
     "data": {
      "image/png": "[encoded data removed]",
      "text/plain": [
       "<Figure size 640x480 with 2 Axes>"
      ]
     },
     "metadata": {},
     "output_type": "display_data"
    },
    {
     "name": "stdout",
     "output_type": "stream",
     "text": [
      "\n",
      "📊 Classification Report:\n",
      "              precision    recall  f1-score   support\n",
      "\n",
      "           0     0.9916    0.9608    0.9760      2704\n",
      "           1     0.9366    0.9861    0.9607      1587\n",
      "\n",
      "    accuracy                         0.9702      4291\n",
      "   macro avg     0.9641    0.9735    0.9683      4291\n",
      "weighted avg     0.9712    0.9702    0.9703      4291\n",
      "\n"
     ]
    }
   ],
   "source": [
    "import torch\n",
    "import torch.nn as nn\n",
    "import torchvision.models as models\n",
    "import matplotlib.pyplot as plt\n",
    "from sklearn.metrics import classification_report, confusion_matrix, ConfusionMatrixDisplay\n",
    "from tqdm import tqdm\n",
    "\n",
    "# ============================\n",
    "# ✅ Configuration\n",
    "# ============================\n",
    "NUM_CLASSES = 2\n",
    "DEVICE = torch.device(\"cuda\" if torch.cuda.is_available() else \"cpu\")\n",
    "\n",
    "# ============================\n",
    "# ✅ Load model architecture\n",
    "# ============================\n",
    "class CustomDenseNet121(nn.Module):\n",
    "    def __init__(self, num_classes=2):\n",
    "        super(CustomDenseNet121, self).__init__()\n",
    "        base_model = models.densenet121(weights=models.DenseNet121_Weights.DEFAULT)\n",
    "\n",
    "        self.features = base_model.features\n",
    "        self.global_avg_pool = nn.AdaptiveAvgPool2d((1, 1))\n",
    "        self.fc1 = nn.Linear(base_model.classifier.in_features, 128)\n",
    "        self.relu = nn.ReLU()\n",
    "        self.classifier = nn.Linear(128, num_classes)\n",
    "\n",
    "    def forward(self, x):\n",
    "        x = self.features(x)\n",
    "        x = self.global_avg_pool(x)\n",
    "        x = torch.flatten(x, 1)\n",
    "        x = self.relu(self.fc1(x))\n",
    "        x = self.classifier(x)\n",
    "        return x\n",
    "\n",
    "# ============================\n",
    "# ✅ Initialize model\n",
    "# ============================\n",
    "model6 = CustomDenseNet121(num_classes=2).to(DEVICE)\n",
    "\n",
    "# ============================\n",
    "# ✅ Load the weights\n",
    "# ============================\n",
    "model6.load_state_dict(torch.load(\"best_model6.pth\"))\n",
    "model6.eval()\n",
    "\n",
    "# ============================\n",
    "# ✅ Test function\n",
    "# ============================\n",
    "def test_model6(model, loader):\n",
    "    model.eval()\n",
    "    correct, total = 0, 0\n",
    "    all_preds, all_labels = [], []\n",
    "\n",
    "    with torch.no_grad():\n",
    "        for images, labels in tqdm(loader, desc=\"Testing\"):\n",
    "            images, labels = images.to(DEVICE), labels.to(DEVICE)\n",
    "            outputs = model(images)\n",
    "            _, preds = torch.max(outputs, 1)\n",
    "\n",
    "            correct += (preds == labels).sum().item()\n",
    "            total += labels.size(0)\n",
    "\n",
    "            all_preds.extend(preds.cpu().numpy())\n",
    "            all_labels.extend(labels.cpu().numpy())\n",
    "\n",
    "    acc = 100. * correct / total\n",
    "    print(f\"\\n✅ Test Accuracy: {acc:.2f}%\")\n",
    "\n",
    "    # Confusion Matrix\n",
    "    cm = confusion_matrix(all_labels, all_preds)\n",
    "    disp = ConfusionMatrixDisplay(confusion_matrix=cm)\n",
    "    disp.plot(cmap='Blues', values_format='d')\n",
    "    plt.title(\"Confusion Matrix\")\n",
    "    plt.grid(False)\n",
    "    plt.show()\n",
    "\n",
    "    # Classification Report\n",
    "    print(\"\\n📊 Classification Report:\")\n",
    "    print(classification_report(all_labels, all_preds, digits=4))\n",
    "\n",
    "# ============================\n",
    "# ✅ Test the model\n",
    "# ============================\n",
    "print(\"\\n🚀 Testing best model...\")\n",
    "test_model6(model6, test_loader)\n"
   ]
  },
  {
   "cell_type": "code",
   "execution_count": null,
   "id": "2df6127e-1b79-4573-ae3d-c6752fdbf9c5",
   "metadata": {},
   "outputs": [],
   "source": []
  },
  {
   "cell_type": "code",
   "execution_count": 24,
   "id": "561fa5d0-c9f2-49e0-ba03-b9c43ca507da",
   "metadata": {},
   "outputs": [
    {
     "data": {
      "image/png": "[encoded data removed]",
      "text/plain": [
       "<Figure size 1000x500 with 1 Axes>"
      ]
     },
     "metadata": {},
     "output_type": "display_data"
    },
    {
     "data": {
      "image/png": "[encoded data removed]",
      "text/plain": [
       "<Figure size 1000x500 with 1 Axes>"
      ]
     },
     "metadata": {},
     "output_type": "display_data"
    }
   ],
   "source": [
    "import seaborn as sns\n",
    "import matplotlib.pyplot as plt\n",
    "\n",
    "# Set the Seaborn “darkgrid” theme\n",
    "sns.set_theme(style=\"darkgrid\")\n",
    "\n",
    "# Now your original plotting code works:\n",
    "epochs_range = range(1, EPOCHS + 1)\n",
    "\n",
    "# 🔹 Plot Loss\n",
    "plt.figure(figsize=(10, 5))\n",
    "plt.plot(epochs_range, train_losses, label='Train Loss')\n",
    "plt.plot(epochs_range, val_losses,   label='Val Loss')\n",
    "plt.title('Loss over Epochs')\n",
    "plt.xlabel('Epoch')\n",
    "plt.ylabel('Loss')\n",
    "plt.legend()\n",
    "plt.tight_layout()\n",
    "plt.show()\n",
    "\n",
    "# 🔹 Plot Accuracy\n",
    "plt.figure(figsize=(10, 5))\n",
    "plt.plot(epochs_range, [a * 100 for a in train_accuracies], label='Train Acc')\n",
    "plt.plot(epochs_range, [a * 100 for a in val_accuracies],   label='Val Acc')\n",
    "plt.title('Accuracy over Epochs')\n",
    "plt.xlabel('Epoch')\n",
    "plt.ylabel('Accuracy (%)')\n",
    "plt.legend()\n",
    "plt.tight_layout()\n",
    "plt.show()"
   ]
  },
  {
   "cell_type": "code",
   "execution_count": null,
   "id": "89c2b8f0-3eb8-41e1-bb1b-4753ea3cd6fa",
   "metadata": {},
   "outputs": [],
   "source": []
  },
  {
   "cell_type": "code",
   "execution_count": null,
   "id": "8c45c468-b34b-4910-bbd5-57309a1ac548",
   "metadata": {},
   "outputs": [],
   "source": []
  }
 ],
 "metadata": {
  "kernelspec": {
   "display_name": "Python 3 (ipykernel)",
   "language": "python",
   "name": "python3"
  },
  "language_info": {
   "codemirror_mode": {
    "name": "ipython",
    "version": 3
   },
   "file_extension": ".py",
   "mimetype": "text/x-python",
   "name": "python",
   "nbconvert_exporter": "python",
   "pygments_lexer": "ipython3",
   "version": "3.12.3"
  }
 },
 "nbformat": 4,
 "nbformat_minor": 5
}
