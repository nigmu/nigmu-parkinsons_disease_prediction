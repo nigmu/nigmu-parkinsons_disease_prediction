{
 "cells": [
  {
   "cell_type": "code",
   "execution_count": 1,
   "id": "870d7342-26d3-41ef-a1ed-c30f0123372e",
   "metadata": {},
   "outputs": [
    {
     "name": "stdout",
     "output_type": "stream",
     "text": [
      "✅ Loaded 79613 samples from ['/home/nigmu/NPersonal/Projects/SDP/nigmu-parkinsons_disease_prediction/Dataset/Italian RGB 3/train']\n",
      "✅ Loaded 16792 samples from ['/home/nigmu/NPersonal/Projects/SDP/nigmu-parkinsons_disease_prediction/Dataset/Italian RGB 3/val']\n",
      "✅ Loaded 16861 samples from ['/home/nigmu/NPersonal/Projects/SDP/nigmu-parkinsons_disease_prediction/Dataset/Italian RGB 3/test']\n",
      "✅ DataLoaders ready! Using device: cuda\n"
     ]
    }
   ],
   "source": [
    "import os\n",
    "import torch\n",
    "from torch.utils.data import Dataset, DataLoader\n",
    "from torchvision import transforms\n",
    "from PIL import Image\n",
    "\n",
    "# Configuration\n",
    "DATA_ROOTS = [\n",
    "    # r\"/home/nigmu/NPersonal/Projects/SDP/nigmu-parkinsons_disease_prediction/Dataset/MDVR RGB\",\n",
    "    r\"/home/nigmu/NPersonal/Projects/SDP/nigmu-parkinsons_disease_prediction/Dataset/Italian RGB 3\"\n",
    "]\n",
    "\n",
    "\n",
    "# 20epochs variant ran with these \n",
    "# #Chunkification technique used\n",
    "# S = librosa.feature.melspectrogram(\n",
    "#         y=y, \n",
    "#         sr=sr, \n",
    "#         n_fft=1024,           # Increased for better frequency resolution\n",
    "#         hop_length=64,       # Smaller for smoother time transitions\n",
    "#         n_mels=224,           # More mel bands initially\n",
    "#         fmin=0,              # Focus on this frequency range\n",
    "#         fmax=4000\n",
    "#     )\n",
    "\n",
    "\n",
    "# 50epochs variant ran with hop length 30 variant\n",
    "\n",
    "\n",
    "BATCH_SIZE = 32\n",
    "NUM_WORKERS = 4  # Optimize based on CPU\n",
    "DEVICE = torch.device(\"cuda\" if torch.cuda.is_available() else \"cpu\")\n",
    "\n",
    "# Custom Dataset Class\n",
    "class ParkinsonSpectrogramDataset(Dataset):\n",
    "    def __init__(self, root_dirs, transform=None):\n",
    "        if isinstance(root_dirs, str):  # If a single path is given, convert it to a list\n",
    "            root_dirs = [root_dirs]\n",
    "        self.root_dirs = root_dirs\n",
    "        self.transform = transform\n",
    "        self.samples = self._load_samples()\n",
    "        \n",
    "    def _load_samples(self):\n",
    "        samples = []\n",
    "        for root_dir in self.root_dirs:\n",
    "            for class_name in ['HC', 'PD']:\n",
    "                class_dir = os.path.join(root_dir, class_name)\n",
    "                if not os.path.exists(class_dir):\n",
    "                    continue\n",
    "\n",
    "                # Traverse subfolders inside HC/PD\n",
    "                for patient_folder in os.listdir(class_dir):\n",
    "                    patient_path = os.path.join(class_dir, patient_folder)\n",
    "                    if os.path.isdir(patient_path):  # Ensure it's a directory\n",
    "                        for img_file in os.listdir(patient_path):\n",
    "                            if img_file.lower().endswith('.png'):  # Only PNG images\n",
    "                                img_path = os.path.join(patient_path, img_file)\n",
    "                                samples.append((img_path, 0 if class_name == 'HC' else 1))\n",
    "\n",
    "        print(f\"✅ Loaded {len(samples)} samples from {self.root_dirs}\")\n",
    "        return samples\n",
    "\n",
    "    def __len__(self):\n",
    "        return len(self.samples)\n",
    "\n",
    "    def __getitem__(self, idx):\n",
    "        img_path, label = self.samples[idx]\n",
    "        img = Image.open(img_path).convert('RGB')  # Convert to RGB\n",
    "        if self.transform:\n",
    "            img = self.transform(img)\n",
    "        return img, label\n",
    "        \n",
    "\n",
    "# ============================\n",
    "# ✅ Data Transforms\n",
    "# ============================\n",
    "\n",
    "# For training: add augmentations\n",
    "train_transform = transforms.Compose([\n",
    "    transforms.RandomApply([\n",
    "        transforms.ColorJitter(brightness=0.2, contrast=0.2, saturation=0.2)\n",
    "    ], p=0.5),  # Color jitter 50% of the time\n",
    "    transforms.RandomRotation(degrees=5),  # Small rotations\n",
    "    transforms.RandomAffine(degrees=0, translate=(0.1, 0.1)),  # Small translations\n",
    "    transforms.RandomResizedCrop(size=(224, 224), scale=(0.9, 1.0), ratio=(0.9, 1.1)),  # Random crops\n",
    "    transforms.ToTensor(),\n",
    "    transforms.Normalize(mean=[0.485, 0.456, 0.406],  # Keep it ImageNet because pretrained DenseNet expects it\n",
    "                         std=[0.229, 0.224, 0.225]),\n",
    "])\n",
    "\n",
    "# For validation and testing: no augmentation, just resize and normalize\n",
    "test_transform = transforms.Compose([\n",
    "    transforms.Resize((224, 224)),  # Resize without crop\n",
    "    transforms.ToTensor(),\n",
    "    transforms.Normalize(mean=[0.485, 0.456, 0.406],  # Same normalization for consistency\n",
    "                         std=[0.229, 0.224, 0.225]),\n",
    "])\n",
    "\n",
    "\n",
    "# Create Datasets (Loading from both MDVR & Italian datasets)\n",
    "train_dataset = ParkinsonSpectrogramDataset([os.path.join(root, 'train') for root in DATA_ROOTS], transform=train_transform)\n",
    "val_dataset = ParkinsonSpectrogramDataset([os.path.join(root, 'val') for root in DATA_ROOTS], transform=test_transform)\n",
    "test_dataset = ParkinsonSpectrogramDataset([os.path.join(root, 'test') for root in DATA_ROOTS], transform=test_transform)\n",
    "\n",
    "# Optimized DataLoaders\n",
    "train_loader = DataLoader(train_dataset, batch_size=BATCH_SIZE, shuffle=True, \n",
    "                          num_workers=NUM_WORKERS, pin_memory=True, persistent_workers=False)\n",
    "\n",
    "val_loader = DataLoader(val_dataset, batch_size=BATCH_SIZE, shuffle=False, \n",
    "                        num_workers=NUM_WORKERS, pin_memory=True, persistent_workers=False)\n",
    "\n",
    "test_loader = DataLoader(test_dataset, batch_size=BATCH_SIZE, shuffle=False, \n",
    "                         num_workers=NUM_WORKERS, pin_memory=True)\n",
    "\n",
    "print(f\"✅ DataLoaders ready! Using device: {DEVICE}\")"
   ]
  },
  {
   "cell_type": "code",
   "execution_count": null,
   "id": "913c81c7-e3de-4760-94e9-1c9df210654f",
   "metadata": {},
   "outputs": [],
   "source": []
  },
  {
   "cell_type": "code",
   "execution_count": null,
   "id": "e15c2933-ce5b-4931-b935-943c56b9787d",
   "metadata": {},
   "outputs": [],
   "source": []
  },
  {
   "cell_type": "code",
   "execution_count": null,
   "id": "4620849d-0a94-4175-8198-ca0bdbdcf6d8",
   "metadata": {},
   "outputs": [],
   "source": []
  },
  {
   "cell_type": "code",
   "execution_count": 2,
   "id": "2c18d334-8518-4769-97b0-9d4d8ca181ea",
   "metadata": {
    "scrolled": true
   },
   "outputs": [
    {
     "name": "stdout",
     "output_type": "stream",
     "text": [
      "\n",
      "🌟 Epoch 1/50\n"
     ]
    },
    {
     "name": "stderr",
     "output_type": "stream",
     "text": [
      "                                                                                "
     ]
    },
    {
     "name": "stdout",
     "output_type": "stream",
     "text": [
      "\n",
      "📈 Train Loss: 0.1318, Acc: 0.9480 | Val Loss: 0.0367, Acc: 0.9881\n",
      "\n",
      "🌟 Epoch 2/50\n"
     ]
    },
    {
     "name": "stderr",
     "output_type": "stream",
     "text": [
      "                                                                                "
     ]
    },
    {
     "name": "stdout",
     "output_type": "stream",
     "text": [
      "\n",
      "📈 Train Loss: 0.0585, Acc: 0.9789 | Val Loss: 0.0385, Acc: 0.9859\n",
      "\n",
      "🌟 Epoch 3/50\n"
     ]
    },
    {
     "name": "stderr",
     "output_type": "stream",
     "text": [
      "                                                                                "
     ]
    },
    {
     "name": "stdout",
     "output_type": "stream",
     "text": [
      "\n",
      "📈 Train Loss: 0.0429, Acc: 0.9847 | Val Loss: 0.0356, Acc: 0.9875\n",
      "\n",
      "🌟 Epoch 4/50\n"
     ]
    },
    {
     "name": "stderr",
     "output_type": "stream",
     "text": [
      "                                                                                "
     ]
    },
    {
     "name": "stdout",
     "output_type": "stream",
     "text": [
      "\n",
      "📈 Train Loss: 0.0346, Acc: 0.9877 | Val Loss: 0.0648, Acc: 0.9849\n",
      "\n",
      "🌟 Epoch 5/50\n"
     ]
    },
    {
     "name": "stderr",
     "output_type": "stream",
     "text": [
      "                                                                                "
     ]
    },
    {
     "name": "stdout",
     "output_type": "stream",
     "text": [
      "\n",
      "📈 Train Loss: 0.0310, Acc: 0.9889 | Val Loss: 0.0246, Acc: 0.9910\n",
      "\n",
      "🌟 Epoch 6/50\n"
     ]
    },
    {
     "name": "stderr",
     "output_type": "stream",
     "text": [
      "                                                                                "
     ]
    },
    {
     "name": "stdout",
     "output_type": "stream",
     "text": [
      "\n",
      "📈 Train Loss: 0.0257, Acc: 0.9906 | Val Loss: 0.0376, Acc: 0.9876\n",
      "\n",
      "🌟 Epoch 7/50\n"
     ]
    },
    {
     "name": "stderr",
     "output_type": "stream",
     "text": [
      "                                                                                "
     ]
    },
    {
     "name": "stdout",
     "output_type": "stream",
     "text": [
      "\n",
      "📈 Train Loss: 0.0241, Acc: 0.9915 | Val Loss: 0.0458, Acc: 0.9827\n",
      "\n",
      "🌟 Epoch 8/50\n"
     ]
    },
    {
     "name": "stderr",
     "output_type": "stream",
     "text": [
      "                                                                                "
     ]
    },
    {
     "name": "stdout",
     "output_type": "stream",
     "text": [
      "\n",
      "📈 Train Loss: 0.0217, Acc: 0.9921 | Val Loss: 0.0306, Acc: 0.9894\n",
      "\n",
      "🌟 Epoch 9/50\n"
     ]
    },
    {
     "name": "stderr",
     "output_type": "stream",
     "text": [
      "                                                                                "
     ]
    },
    {
     "name": "stdout",
     "output_type": "stream",
     "text": [
      "\n",
      "📈 Train Loss: 0.0198, Acc: 0.9930 | Val Loss: 0.0226, Acc: 0.9930\n",
      "\n",
      "🌟 Epoch 10/50\n"
     ]
    },
    {
     "name": "stderr",
     "output_type": "stream",
     "text": [
      "                                                                                "
     ]
    },
    {
     "name": "stdout",
     "output_type": "stream",
     "text": [
      "\n",
      "📈 Train Loss: 0.0188, Acc: 0.9934 | Val Loss: 0.0377, Acc: 0.9879\n",
      "\n",
      "🌟 Epoch 11/50\n"
     ]
    },
    {
     "name": "stderr",
     "output_type": "stream",
     "text": [
      "                                                                                "
     ]
    },
    {
     "name": "stdout",
     "output_type": "stream",
     "text": [
      "\n",
      "📈 Train Loss: 0.0177, Acc: 0.9937 | Val Loss: 0.0359, Acc: 0.9865\n",
      "\n",
      "🌟 Epoch 12/50\n"
     ]
    },
    {
     "name": "stderr",
     "output_type": "stream",
     "text": [
      "                                                                                "
     ]
    },
    {
     "name": "stdout",
     "output_type": "stream",
     "text": [
      "\n",
      "📈 Train Loss: 0.0164, Acc: 0.9937 | Val Loss: 0.0594, Acc: 0.9803\n",
      "\n",
      "🌟 Epoch 13/50\n"
     ]
    },
    {
     "name": "stderr",
     "output_type": "stream",
     "text": [
      "                                                                                "
     ]
    },
    {
     "name": "stdout",
     "output_type": "stream",
     "text": [
      "\n",
      "📈 Train Loss: 0.0148, Acc: 0.9945 | Val Loss: 0.0413, Acc: 0.9866\n",
      "\n",
      "🌟 Epoch 14/50\n"
     ]
    },
    {
     "name": "stderr",
     "output_type": "stream",
     "text": [
      "                                                                                "
     ]
    },
    {
     "name": "stdout",
     "output_type": "stream",
     "text": [
      "\n",
      "📈 Train Loss: 0.0147, Acc: 0.9948 | Val Loss: 0.0512, Acc: 0.9833\n",
      "\n",
      "🌟 Epoch 15/50\n"
     ]
    },
    {
     "name": "stderr",
     "output_type": "stream",
     "text": [
      "                                                                                "
     ]
    },
    {
     "name": "stdout",
     "output_type": "stream",
     "text": [
      "\n",
      "📈 Train Loss: 0.0138, Acc: 0.9951 | Val Loss: 0.0406, Acc: 0.9861\n",
      "\n",
      "🌟 Epoch 16/50\n"
     ]
    },
    {
     "name": "stderr",
     "output_type": "stream",
     "text": [
      "                                                                                "
     ]
    },
    {
     "name": "stdout",
     "output_type": "stream",
     "text": [
      "\n",
      "📈 Train Loss: 0.0142, Acc: 0.9950 | Val Loss: 0.0529, Acc: 0.9836\n",
      "\n",
      "🌟 Epoch 17/50\n"
     ]
    },
    {
     "name": "stderr",
     "output_type": "stream",
     "text": [
      "                                                                                "
     ]
    },
    {
     "name": "stdout",
     "output_type": "stream",
     "text": [
      "\n",
      "📈 Train Loss: 0.0133, Acc: 0.9954 | Val Loss: 0.0378, Acc: 0.9877\n",
      "\n",
      "🌟 Epoch 18/50\n"
     ]
    },
    {
     "name": "stderr",
     "output_type": "stream",
     "text": [
      "                                                                                "
     ]
    },
    {
     "name": "stdout",
     "output_type": "stream",
     "text": [
      "\n",
      "📈 Train Loss: 0.0126, Acc: 0.9954 | Val Loss: 0.0246, Acc: 0.9923\n",
      "\n",
      "🌟 Epoch 19/50\n"
     ]
    },
    {
     "name": "stderr",
     "output_type": "stream",
     "text": [
      "                                                                                "
     ]
    },
    {
     "name": "stdout",
     "output_type": "stream",
     "text": [
      "\n",
      "📈 Train Loss: 0.0109, Acc: 0.9962 | Val Loss: 0.0521, Acc: 0.9861\n",
      "\n",
      "🌟 Epoch 20/50\n"
     ]
    },
    {
     "name": "stderr",
     "output_type": "stream",
     "text": [
      "                                                                                "
     ]
    },
    {
     "name": "stdout",
     "output_type": "stream",
     "text": [
      "\n",
      "📈 Train Loss: 0.0111, Acc: 0.9960 | Val Loss: 0.0248, Acc: 0.9926\n",
      "\n",
      "🌟 Epoch 21/50\n"
     ]
    },
    {
     "name": "stderr",
     "output_type": "stream",
     "text": [
      "                                                                                "
     ]
    },
    {
     "name": "stdout",
     "output_type": "stream",
     "text": [
      "\n",
      "📈 Train Loss: 0.0109, Acc: 0.9959 | Val Loss: 0.0480, Acc: 0.9880\n",
      "\n",
      "🌟 Epoch 22/50\n"
     ]
    },
    {
     "name": "stderr",
     "output_type": "stream",
     "text": [
      "                                                                                "
     ]
    },
    {
     "name": "stdout",
     "output_type": "stream",
     "text": [
      "\n",
      "📈 Train Loss: 0.0100, Acc: 0.9965 | Val Loss: 0.0655, Acc: 0.9817\n",
      "\n",
      "🌟 Epoch 23/50\n"
     ]
    },
    {
     "name": "stderr",
     "output_type": "stream",
     "text": [
      "                                                                                "
     ]
    },
    {
     "name": "stdout",
     "output_type": "stream",
     "text": [
      "\n",
      "📈 Train Loss: 0.0100, Acc: 0.9965 | Val Loss: 0.0454, Acc: 0.9886\n",
      "\n",
      "🌟 Epoch 24/50\n"
     ]
    },
    {
     "name": "stderr",
     "output_type": "stream",
     "text": [
      "                                                                                "
     ]
    },
    {
     "name": "stdout",
     "output_type": "stream",
     "text": [
      "\n",
      "📈 Train Loss: 0.0101, Acc: 0.9964 | Val Loss: 0.0250, Acc: 0.9917\n",
      "\n",
      "🌟 Epoch 25/50\n"
     ]
    },
    {
     "name": "stderr",
     "output_type": "stream",
     "text": [
      "                                                                                "
     ]
    },
    {
     "name": "stdout",
     "output_type": "stream",
     "text": [
      "\n",
      "📈 Train Loss: 0.0094, Acc: 0.9968 | Val Loss: 0.0394, Acc: 0.9886\n",
      "\n",
      "🌟 Epoch 26/50\n"
     ]
    },
    {
     "name": "stderr",
     "output_type": "stream",
     "text": [
      "                                                                                "
     ]
    },
    {
     "name": "stdout",
     "output_type": "stream",
     "text": [
      "\n",
      "📈 Train Loss: 0.0090, Acc: 0.9967 | Val Loss: 0.0420, Acc: 0.9883\n",
      "\n",
      "🌟 Epoch 27/50\n"
     ]
    },
    {
     "name": "stderr",
     "output_type": "stream",
     "text": [
      "                                                                                "
     ]
    },
    {
     "name": "stdout",
     "output_type": "stream",
     "text": [
      "\n",
      "📈 Train Loss: 0.0088, Acc: 0.9968 | Val Loss: 0.0342, Acc: 0.9911\n",
      "\n",
      "🌟 Epoch 28/50\n"
     ]
    },
    {
     "name": "stderr",
     "output_type": "stream",
     "text": [
      "                                                                                "
     ]
    },
    {
     "name": "stdout",
     "output_type": "stream",
     "text": [
      "\n",
      "📈 Train Loss: 0.0087, Acc: 0.9968 | Val Loss: 0.0415, Acc: 0.9867\n",
      "\n",
      "🌟 Epoch 29/50\n"
     ]
    },
    {
     "name": "stderr",
     "output_type": "stream",
     "text": [
      "                                                                                "
     ]
    },
    {
     "name": "stdout",
     "output_type": "stream",
     "text": [
      "\n",
      "📈 Train Loss: 0.0080, Acc: 0.9972 | Val Loss: 0.0274, Acc: 0.9924\n",
      "\n",
      "🌟 Epoch 30/50\n"
     ]
    },
    {
     "name": "stderr",
     "output_type": "stream",
     "text": [
      "                                                                                "
     ]
    },
    {
     "name": "stdout",
     "output_type": "stream",
     "text": [
      "\n",
      "📈 Train Loss: 0.0078, Acc: 0.9975 | Val Loss: 0.0347, Acc: 0.9903\n",
      "\n",
      "🌟 Epoch 31/50\n"
     ]
    },
    {
     "name": "stderr",
     "output_type": "stream",
     "text": [
      "                                                                                "
     ]
    },
    {
     "name": "stdout",
     "output_type": "stream",
     "text": [
      "\n",
      "📈 Train Loss: 0.0081, Acc: 0.9970 | Val Loss: 0.0241, Acc: 0.9927\n",
      "\n",
      "🌟 Epoch 32/50\n"
     ]
    },
    {
     "name": "stderr",
     "output_type": "stream",
     "text": [
      "                                                                                "
     ]
    },
    {
     "name": "stdout",
     "output_type": "stream",
     "text": [
      "\n",
      "📈 Train Loss: 0.0081, Acc: 0.9972 | Val Loss: 0.0366, Acc: 0.9912\n",
      "\n",
      "🌟 Epoch 33/50\n"
     ]
    },
    {
     "name": "stderr",
     "output_type": "stream",
     "text": [
      "                                                                                "
     ]
    },
    {
     "name": "stdout",
     "output_type": "stream",
     "text": [
      "\n",
      "📈 Train Loss: 0.0071, Acc: 0.9974 | Val Loss: 0.0356, Acc: 0.9911\n",
      "\n",
      "🌟 Epoch 34/50\n"
     ]
    },
    {
     "name": "stderr",
     "output_type": "stream",
     "text": [
      "                                                                                "
     ]
    },
    {
     "name": "stdout",
     "output_type": "stream",
     "text": [
      "\n",
      "📈 Train Loss: 0.0078, Acc: 0.9972 | Val Loss: 0.0278, Acc: 0.9918\n",
      "\n",
      "🌟 Epoch 35/50\n"
     ]
    },
    {
     "name": "stderr",
     "output_type": "stream",
     "text": [
      "                                                                                "
     ]
    },
    {
     "name": "stdout",
     "output_type": "stream",
     "text": [
      "\n",
      "📈 Train Loss: 0.0081, Acc: 0.9974 | Val Loss: 0.0290, Acc: 0.9912\n",
      "\n",
      "🌟 Epoch 36/50\n"
     ]
    },
    {
     "name": "stderr",
     "output_type": "stream",
     "text": [
      "                                                                                "
     ]
    },
    {
     "name": "stdout",
     "output_type": "stream",
     "text": [
      "\n",
      "📈 Train Loss: 0.0064, Acc: 0.9978 | Val Loss: 0.0438, Acc: 0.9879\n",
      "\n",
      "🌟 Epoch 37/50\n"
     ]
    },
    {
     "name": "stderr",
     "output_type": "stream",
     "text": [
      "                                                                                "
     ]
    },
    {
     "name": "stdout",
     "output_type": "stream",
     "text": [
      "\n",
      "📈 Train Loss: 0.0069, Acc: 0.9975 | Val Loss: 0.0495, Acc: 0.9873\n",
      "\n",
      "🌟 Epoch 38/50\n"
     ]
    },
    {
     "name": "stderr",
     "output_type": "stream",
     "text": [
      "                                                                                "
     ]
    },
    {
     "name": "stdout",
     "output_type": "stream",
     "text": [
      "\n",
      "📈 Train Loss: 0.0074, Acc: 0.9975 | Val Loss: 0.0296, Acc: 0.9913\n",
      "\n",
      "🌟 Epoch 39/50\n"
     ]
    },
    {
     "name": "stderr",
     "output_type": "stream",
     "text": [
      "                                                                                "
     ]
    },
    {
     "name": "stdout",
     "output_type": "stream",
     "text": [
      "\n",
      "📈 Train Loss: 0.0072, Acc: 0.9975 | Val Loss: 0.0461, Acc: 0.9856\n",
      "\n",
      "🌟 Epoch 40/50\n"
     ]
    },
    {
     "name": "stderr",
     "output_type": "stream",
     "text": [
      "                                                                                "
     ]
    },
    {
     "name": "stdout",
     "output_type": "stream",
     "text": [
      "\n",
      "📈 Train Loss: 0.0067, Acc: 0.9974 | Val Loss: 0.0366, Acc: 0.9896\n",
      "\n",
      "🌟 Epoch 41/50\n"
     ]
    },
    {
     "name": "stderr",
     "output_type": "stream",
     "text": [
      "                                                                                "
     ]
    },
    {
     "name": "stdout",
     "output_type": "stream",
     "text": [
      "\n",
      "📈 Train Loss: 0.0064, Acc: 0.9978 | Val Loss: 0.0338, Acc: 0.9884\n",
      "\n",
      "🌟 Epoch 42/50\n"
     ]
    },
    {
     "name": "stderr",
     "output_type": "stream",
     "text": [
      "                                                                                "
     ]
    },
    {
     "name": "stdout",
     "output_type": "stream",
     "text": [
      "\n",
      "📈 Train Loss: 0.0065, Acc: 0.9978 | Val Loss: 0.0291, Acc: 0.9905\n",
      "\n",
      "🌟 Epoch 43/50\n"
     ]
    },
    {
     "name": "stderr",
     "output_type": "stream",
     "text": [
      "                                                                                "
     ]
    },
    {
     "name": "stdout",
     "output_type": "stream",
     "text": [
      "\n",
      "📈 Train Loss: 0.0060, Acc: 0.9979 | Val Loss: 0.0425, Acc: 0.9886\n",
      "\n",
      "🌟 Epoch 44/50\n"
     ]
    },
    {
     "name": "stderr",
     "output_type": "stream",
     "text": [
      "                                                                                "
     ]
    },
    {
     "name": "stdout",
     "output_type": "stream",
     "text": [
      "\n",
      "📈 Train Loss: 0.0059, Acc: 0.9980 | Val Loss: 0.0381, Acc: 0.9899\n",
      "\n",
      "🌟 Epoch 45/50\n"
     ]
    },
    {
     "name": "stderr",
     "output_type": "stream",
     "text": [
      "                                                                                "
     ]
    },
    {
     "name": "stdout",
     "output_type": "stream",
     "text": [
      "\n",
      "📈 Train Loss: 0.0062, Acc: 0.9980 | Val Loss: 0.0502, Acc: 0.9877\n",
      "\n",
      "🌟 Epoch 46/50\n"
     ]
    },
    {
     "name": "stderr",
     "output_type": "stream",
     "text": [
      "                                                                                "
     ]
    },
    {
     "name": "stdout",
     "output_type": "stream",
     "text": [
      "\n",
      "📈 Train Loss: 0.0066, Acc: 0.9976 | Val Loss: 0.0393, Acc: 0.9890\n",
      "\n",
      "🌟 Epoch 47/50\n"
     ]
    },
    {
     "name": "stderr",
     "output_type": "stream",
     "text": [
      "                                                                                "
     ]
    },
    {
     "name": "stdout",
     "output_type": "stream",
     "text": [
      "\n",
      "📈 Train Loss: 0.0055, Acc: 0.9981 | Val Loss: 0.0304, Acc: 0.9912\n",
      "\n",
      "🌟 Epoch 48/50\n"
     ]
    },
    {
     "name": "stderr",
     "output_type": "stream",
     "text": [
      "                                                                                "
     ]
    },
    {
     "name": "stdout",
     "output_type": "stream",
     "text": [
      "\n",
      "📈 Train Loss: 0.0057, Acc: 0.9981 | Val Loss: 0.0395, Acc: 0.9891\n",
      "\n",
      "🌟 Epoch 49/50\n"
     ]
    },
    {
     "name": "stderr",
     "output_type": "stream",
     "text": [
      "                                                                                "
     ]
    },
    {
     "name": "stdout",
     "output_type": "stream",
     "text": [
      "\n",
      "📈 Train Loss: 0.0059, Acc: 0.9978 | Val Loss: 0.0293, Acc: 0.9911\n",
      "\n",
      "🌟 Epoch 50/50\n"
     ]
    },
    {
     "name": "stderr",
     "output_type": "stream",
     "text": [
      "                                                                                "
     ]
    },
    {
     "name": "stdout",
     "output_type": "stream",
     "text": [
      "\n",
      "📈 Train Loss: 0.0061, Acc: 0.9979 | Val Loss: 0.0225, Acc: 0.9933\n",
      "\n",
      "🚀 Testing best model...\n"
     ]
    },
    {
     "name": "stderr",
     "output_type": "stream",
     "text": [
      "Testing: 100%|██████████████████████████████| 1054/1054 [01:14<00:00, 14.22it/s]"
     ]
    },
    {
     "name": "stdout",
     "output_type": "stream",
     "text": [
      "\n",
      "✅ Test Accuracy: 99.44%\n"
     ]
    },
    {
     "name": "stderr",
     "output_type": "stream",
     "text": [
      "\n"
     ]
    }
   ],
   "source": [
    "# 🚀 Full Pipeline for Pretrained EfficientNetV2 with RGB Spectrograms\n",
    "\n",
    "import os\n",
    "import time\n",
    "import torch\n",
    "import torch.nn as nn\n",
    "from torch.utils.data import DataLoader\n",
    "from torchvision import models, transforms, datasets\n",
    "from tqdm import tqdm\n",
    "\n",
    "# ============================\n",
    "# ✅ Configuration\n",
    "# ============================\n",
    "# DATA_DIR = \"/home/nigmu/NPersonal/Projects/SDP/nigmu-parkinsons_disease_prediction/Dataset/MDVR RGB\"\n",
    "# DATA_DIR = \"/home/nigmu/NPersonal/Projects/SDP/nigmu-parkinsons_disease_prediction/Dataset/Italian RGB\"\n",
    "# BATCH_SIZE = 32\n",
    "NUM_CLASSES = 2\n",
    "EPOCHS = 50\n",
    "LEARNING_RATE = 1e-4\n",
    "DEVICE = torch.device(\"cuda\" if torch.cuda.is_available() else \"cpu\")\n",
    "\n",
    "# ============================\n",
    "# ✅ Data Transforms\n",
    "# ============================\n",
    "# transform = transforms.Compose([\n",
    "#     transforms.Resize((224, 224)),  # Resize from (496x200) to 224x224 for DenseNet\n",
    "#     transforms.ToTensor(),\n",
    "#     transforms.Normalize(mean=[0.485, 0.456, 0.406],\n",
    "#                          std=[0.229, 0.224, 0.225]),\n",
    "# ])\n",
    "\n",
    "# ============================\n",
    "# ✅ Dataset and DataLoader\n",
    "# ============================\n",
    "# train_dataset = datasets.ImageFolder(os.path.join(DATA_DIR, 'train'), transform=transform)\n",
    "# val_dataset   = datasets.ImageFolder(os.path.join(DATA_DIR, 'val'), transform=transform)\n",
    "# test_dataset  = datasets.ImageFolder(os.path.join(DATA_DIR, 'test'), transform=transform)\n",
    "\n",
    "# train_loader = DataLoader(train_dataset, batch_size=BATCH_SIZE, shuffle=True, num_workers=2)\n",
    "# val_loader   = DataLoader(val_dataset, batch_size=BATCH_SIZE, shuffle=False, num_workers=2)\n",
    "# test_loader  = DataLoader(test_dataset, batch_size=BATCH_SIZE, shuffle=False, num_workers=2)\n",
    "\n",
    "# ============================\n",
    "# ✅ Model Definition\n",
    "# ============================\n",
    "\n",
    "\n",
    "# # mFrom here \n",
    "class CustomEfficientNetV2(nn.Module):\n",
    "    def __init__(self, num_classes):\n",
    "        super(CustomEfficientNetV2, self).__init__()\n",
    "        \n",
    "        # EfficientNetV2 model (small, medium, or large)\n",
    "        # Use 'weights=models.EfficientNet_V2_S_Weights.DEFAULT' to load pre-trained weights\n",
    "        self.base_model = models.efficientnet_v2_s(weights=models.EfficientNet_V2_S_Weights.DEFAULT)  # You can swap to _m or _l\n",
    "\n",
    "        # The number of input features for the classifier layer\n",
    "        in_features = self.base_model.classifier[1].in_features\n",
    "        \n",
    "        # Replacing the final classifier with the number of output classes you need\n",
    "        self.base_model.classifier = nn.Sequential(\n",
    "            nn.Dropout(0.3),  # Dropout for regularization\n",
    "            nn.Linear(in_features, num_classes)  # Output layer for your classification task\n",
    "        )\n",
    "    \n",
    "    def forward(self, x):\n",
    "        return self.base_model(x)\n",
    "\n",
    "# Usage\n",
    "model = CustomEfficientNetV2(num_classes=NUM_CLASSES).to(DEVICE)\n",
    "\n",
    "\n",
    "# ============================\n",
    "# ✅ Loss and Optimizer\n",
    "# ============================\n",
    "criterion = nn.CrossEntropyLoss()\n",
    "optimizer = torch.optim.Adam(model.parameters(), lr=LEARNING_RATE)\n",
    "\n",
    "# ============================\n",
    "# ✅ Training and Validation Loop\n",
    "# ============================\n",
    "\n",
    "\n",
    "# Store metrics for plotting\n",
    "train_losses = []\n",
    "train_accuracies = []\n",
    "val_losses = []\n",
    "val_accuracies = []\n",
    "test_accuracy = None  # Final test accuracy\n",
    "\n",
    "\n",
    "\n",
    "def train_epoch(model, loader, optimizer, criterion):\n",
    "    model.train()\n",
    "    running_loss, correct, total = 0.0, 0, 0\n",
    "    loop = tqdm(loader, desc=\"Training\", leave=False)\n",
    "    for images, labels in loop:\n",
    "        images, labels = images.to(DEVICE), labels.to(DEVICE)\n",
    "\n",
    "        optimizer.zero_grad()\n",
    "        outputs = model(images)\n",
    "        loss = criterion(outputs, labels)\n",
    "        loss.backward()\n",
    "        optimizer.step()\n",
    "\n",
    "        running_loss += loss.item() * images.size(0)\n",
    "        _, preds = torch.max(outputs, 1)\n",
    "        correct += (preds == labels).sum().item()\n",
    "        total += labels.size(0)\n",
    "\n",
    "        loop.set_postfix(loss=loss.item(), acc=100. * correct / total)\n",
    "\n",
    "    return running_loss / total, correct / total\n",
    "\n",
    "def validate_epoch(model, loader, criterion):\n",
    "    model.eval()\n",
    "    running_loss, correct, total = 0.0, 0, 0\n",
    "    with torch.no_grad():\n",
    "        loop = tqdm(loader, desc=\"Validation\", leave=False)\n",
    "        for images, labels in loop:\n",
    "            images, labels = images.to(DEVICE), labels.to(DEVICE)\n",
    "            outputs = model(images)\n",
    "            loss = criterion(outputs, labels)\n",
    "\n",
    "            running_loss += loss.item() * images.size(0)\n",
    "            _, preds = torch.max(outputs, 1)\n",
    "            correct += (preds == labels).sum().item()\n",
    "            total += labels.size(0)\n",
    "\n",
    "            loop.set_postfix(loss=loss.item(), acc=100. * correct / total)\n",
    "\n",
    "    return running_loss / total, correct / total\n",
    "\n",
    "# ============================\n",
    "# ✅ Run Training\n",
    "# ============================\n",
    "for epoch in range(EPOCHS):\n",
    "    print(f\"\\n🌟 Epoch {epoch+1}/{EPOCHS}\")\n",
    "    train_loss, train_acc = train_epoch(model, train_loader, optimizer, criterion)\n",
    "    val_loss, val_acc = validate_epoch(model, val_loader, criterion)\n",
    "\n",
    "    # Save metrics\n",
    "    train_losses.append(train_loss)\n",
    "    train_accuracies.append(train_acc)\n",
    "    val_losses.append(val_loss)\n",
    "    val_accuracies.append(val_acc)\n",
    "\n",
    "    \n",
    "    print(f\"\\n📈 Train Loss: {train_loss:.4f}, Acc: {train_acc:.4f} | Val Loss: {val_loss:.4f}, Acc: {val_acc:.4f}\")\n",
    "\n",
    "# ============================\n",
    "# ✅ Testing\n",
    "# ============================\n",
    "def test_model(model, loader):\n",
    "    model.eval()\n",
    "    correct, total = 0, 0\n",
    "    with torch.no_grad():\n",
    "        for images, labels in tqdm(loader, desc=\"Testing\"):\n",
    "            images, labels = images.to(DEVICE), labels.to(DEVICE)\n",
    "            outputs = model(images)\n",
    "            _, preds = torch.max(outputs, 1)\n",
    "            correct += (preds == labels).sum().item()\n",
    "            total += labels.size(0)\n",
    "\n",
    "    acc = 100. * correct / total\n",
    "    print(f\"\\n✅ Test Accuracy: {acc:.2f}%\")\n",
    "    return acc  # <- Return value for test_accuracy\n",
    "\n",
    "# Run test\n",
    "print(\"\\n🚀 Testing best model...\")\n",
    "test_accuracy = test_model(model, test_loader)"
   ]
  },
  {
   "cell_type": "code",
   "execution_count": 6,
   "id": "0cf0c350-bae6-4182-a63b-56deecb64144",
   "metadata": {},
   "outputs": [
    {
     "name": "stdout",
     "output_type": "stream",
     "text": [
      "✅ Model saved as 'best_model8.pth'\n"
     ]
    }
   ],
   "source": [
    "# Save the trained model\n",
    "torch.save(model.state_dict(), 'best_model8.pth')\n",
    "print(\"✅ Model saved as 'best_model8.pth'\")"
   ]
  },
  {
   "cell_type": "code",
   "execution_count": null,
   "id": "15cf7a3a-f65b-49c3-9e62-49c822b81c3a",
   "metadata": {},
   "outputs": [],
   "source": []
  },
  {
   "cell_type": "code",
   "execution_count": null,
   "id": "ca4c3019-1558-4161-a623-a64f27768bc8",
   "metadata": {},
   "outputs": [],
   "source": []
  },
  {
   "cell_type": "code",
   "execution_count": 11,
   "id": "f109fae2-cd51-4803-83a3-e5f6cbaeb69e",
   "metadata": {},
   "outputs": [
    {
     "name": "stdout",
     "output_type": "stream",
     "text": [
      "\n",
      "🚀 Testing best model...\n"
     ]
    },
    {
     "name": "stderr",
     "output_type": "stream",
     "text": [
      "Testing: 100%|██████████████████████████████| 1054/1054 [01:14<00:00, 14.15it/s]\n"
     ]
    },
    {
     "name": "stdout",
     "output_type": "stream",
     "text": [
      "\n",
      "✅ Test Accuracy: 99.44%\n"
     ]
    },
    {
     "data": {
      "image/png": "[encoded data removed]",
      "text/plain": [
       "<Figure size 640x480 with 2 Axes>"
      ]
     },
     "metadata": {},
     "output_type": "display_data"
    },
    {
     "name": "stdout",
     "output_type": "stream",
     "text": [
      "\n",
      "📊 Classification Report:\n",
      "              precision    recall  f1-score   support\n",
      "\n",
      "           0     0.9979    0.9914    0.9946      8795\n",
      "           1     0.9906    0.9978    0.9942      8066\n",
      "\n",
      "    accuracy                         0.9944     16861\n",
      "   macro avg     0.9943    0.9946    0.9944     16861\n",
      "weighted avg     0.9945    0.9944    0.9944     16861\n",
      "\n"
     ]
    }
   ],
   "source": [
    "import torch\n",
    "import torch.nn as nn\n",
    "import matplotlib.pyplot as plt\n",
    "from sklearn.metrics import classification_report, confusion_matrix, ConfusionMatrixDisplay\n",
    "from torchvision import models\n",
    "from tqdm import tqdm\n",
    "\n",
    "# ============================\n",
    "# ✅ Configuration\n",
    "# ============================\n",
    "NUM_CLASSES = 2\n",
    "DEVICE = torch.device(\"cuda\" if torch.cuda.is_available() else \"cpu\")\n",
    "\n",
    "# ============================\n",
    "# ✅ Model Definition (Matching Training)\n",
    "# ============================\n",
    "class CustomEfficientNetV2(nn.Module):\n",
    "    def __init__(self, num_classes=NUM_CLASSES):\n",
    "        super(CustomEfficientNetV2, self).__init__()\n",
    "        self.base_model = models.efficientnet_v2_s(weights=models.EfficientNet_V2_S_Weights.DEFAULT)\n",
    "        in_features = self.base_model.classifier[1].in_features\n",
    "        self.base_model.classifier = nn.Sequential(\n",
    "            nn.Dropout(0.3),\n",
    "            nn.Linear(in_features, num_classes)\n",
    "        )\n",
    "    \n",
    "    def forward(self, x):\n",
    "        return self.base_model(x)\n",
    "\n",
    "# ============================\n",
    "# ✅ Load the Model\n",
    "# ============================\n",
    "model8 = CustomEfficientNetV2(num_classes=NUM_CLASSES).to(DEVICE)\n",
    "model8.load_state_dict(torch.load(\"best_model8.pth\"))\n",
    "model8.eval()\n",
    "\n",
    "# ============================\n",
    "# ✅ Testing Function\n",
    "# ============================\n",
    "def test_model8(model, loader):\n",
    "    model.eval()\n",
    "    correct, total = 0, 0\n",
    "    all_preds, all_labels = [], []\n",
    "\n",
    "    with torch.no_grad():\n",
    "        for images, labels in tqdm(loader, desc=\"Testing\"):\n",
    "            images, labels = images.to(DEVICE), labels.to(DEVICE)\n",
    "            outputs = model(images)\n",
    "            _, preds = torch.max(outputs, 1)\n",
    "\n",
    "            correct += (preds == labels).sum().item()\n",
    "            total += labels.size(0)\n",
    "\n",
    "            all_preds.extend(preds.cpu().numpy())\n",
    "            all_labels.extend(labels.cpu().numpy())\n",
    "\n",
    "    acc = 100. * correct / total\n",
    "    print(f\"\\n✅ Test Accuracy: {acc:.2f}%\")\n",
    "\n",
    "    # 📊 Confusion Matrix\n",
    "    cm = confusion_matrix(all_labels, all_preds)\n",
    "    disp = ConfusionMatrixDisplay(confusion_matrix=cm)\n",
    "    disp.plot(cmap='Blues', values_format='d')\n",
    "    plt.title(\"Confusion Matrix\")\n",
    "    plt.grid(False)\n",
    "    plt.show()\n",
    "\n",
    "    # 📋 Classification Report\n",
    "    print(\"\\n📊 Classification Report:\")\n",
    "    print(classification_report(all_labels, all_preds, digits=4))\n",
    "\n",
    "# ============================\n",
    "# ✅ Run the Test\n",
    "# ============================\n",
    "print(\"\\n🚀 Testing best model...\")\n",
    "test_model8(model8, test_loader)\n"
   ]
  },
  {
   "cell_type": "code",
   "execution_count": null,
   "id": "2df6127e-1b79-4573-ae3d-c6752fdbf9c5",
   "metadata": {},
   "outputs": [],
   "source": []
  },
  {
   "cell_type": "code",
   "execution_count": 12,
   "id": "561fa5d0-c9f2-49e0-ba03-b9c43ca507da",
   "metadata": {},
   "outputs": [
    {
     "data": {
      "image/png": "[encoded data removed]",
      "text/plain": [
       "<Figure size 1000x500 with 1 Axes>"
      ]
     },
     "metadata": {},
     "output_type": "display_data"
    },
    {
     "data": {
      "image/png": "[encoded data removed]",
      "text/plain": [
       "<Figure size 1000x500 with 1 Axes>"
      ]
     },
     "metadata": {},
     "output_type": "display_data"
    }
   ],
   "source": [
    "import seaborn as sns\n",
    "import matplotlib.pyplot as plt\n",
    "\n",
    "# Set the Seaborn “darkgrid” theme\n",
    "sns.set_theme(style=\"darkgrid\")\n",
    "\n",
    "# Now your original plotting code works:\n",
    "epochs_range = range(1, EPOCHS + 1)\n",
    "\n",
    "# 🔹 Plot Loss\n",
    "plt.figure(figsize=(10, 5))\n",
    "plt.plot(epochs_range, train_losses, label='Train Loss')\n",
    "plt.plot(epochs_range, val_losses,   label='Val Loss')\n",
    "plt.title('Loss over Epochs')\n",
    "plt.xlabel('Epoch')\n",
    "plt.ylabel('Loss')\n",
    "plt.legend()\n",
    "plt.tight_layout()\n",
    "plt.show()\n",
    "\n",
    "# 🔹 Plot Accuracy\n",
    "plt.figure(figsize=(10, 5))\n",
    "plt.plot(epochs_range, [a * 100 for a in train_accuracies], label='Train Acc')\n",
    "plt.plot(epochs_range, [a * 100 for a in val_accuracies],   label='Val Acc')\n",
    "plt.title('Accuracy over Epochs')\n",
    "plt.xlabel('Epoch')\n",
    "plt.ylabel('Accuracy (%)')\n",
    "plt.legend()\n",
    "plt.tight_layout()\n",
    "plt.show()"
   ]
  },
  {
   "cell_type": "code",
   "execution_count": null,
   "id": "89c2b8f0-3eb8-41e1-bb1b-4753ea3cd6fa",
   "metadata": {},
   "outputs": [],
   "source": []
  },
  {
   "cell_type": "code",
   "execution_count": null,
   "id": "8c45c468-b34b-4910-bbd5-57309a1ac548",
   "metadata": {},
   "outputs": [],
   "source": []
  },
  {
   "cell_type": "code",
   "execution_count": null,
   "id": "111dbbb9-93ea-4526-bb37-d3ff3951a5bb",
   "metadata": {},
   "outputs": [],
   "source": []
  },
  {
   "cell_type": "code",
   "execution_count": null,
   "id": "05b5022f-b3e0-4ca2-bb80-744b6dd7a341",
   "metadata": {},
   "outputs": [],
   "source": []
  },
  {
   "cell_type": "code",
   "execution_count": null,
   "id": "9dddb0f1-eeb7-4302-81db-d4fccecde5c1",
   "metadata": {},
   "outputs": [],
   "source": []
  },
  {
   "cell_type": "code",
   "execution_count": null,
   "id": "19134596-f927-4020-bb03-4a113930b9db",
   "metadata": {},
   "outputs": [],
   "source": []
  },
  {
   "cell_type": "code",
   "execution_count": null,
   "id": "58950e63-51ce-4400-9bbc-7de002b468ab",
   "metadata": {},
   "outputs": [],
   "source": []
  },
  {
   "cell_type": "code",
   "execution_count": null,
   "id": "3363eacf-6da7-4c62-8fe5-77da1d74d95a",
   "metadata": {},
   "outputs": [],
   "source": []
  },
  {
   "cell_type": "code",
   "execution_count": null,
   "id": "cefeaddb-ef73-440a-bb39-e4a403b25d33",
   "metadata": {},
   "outputs": [],
   "source": []
  },
  {
   "cell_type": "code",
   "execution_count": null,
   "id": "ec3cc77c-1e12-453d-ac43-ec6b5e91ff75",
   "metadata": {},
   "outputs": [],
   "source": []
  }
 ],
 "metadata": {
  "kernelspec": {
   "display_name": "Python 3 (ipykernel)",
   "language": "python",
   "name": "python3"
  },
  "language_info": {
   "codemirror_mode": {
    "name": "ipython",
    "version": 3
   },
   "file_extension": ".py",
   "mimetype": "text/x-python",
   "name": "python",
   "nbconvert_exporter": "python",
   "pygments_lexer": "ipython3",
   "version": "3.12.3"
  }
 },
 "nbformat": 4,
 "nbformat_minor": 5
}
